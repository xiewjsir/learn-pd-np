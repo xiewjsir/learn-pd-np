{
 "cells": [
  {
   "cell_type": "code",
   "execution_count": 3,
   "metadata": {},
   "outputs": [],
   "source": [
    "import numpy as np\n",
    "data1 = [6,7,5,8,0,1]"
   ]
  },
  {
   "cell_type": "code",
   "execution_count": 4,
   "metadata": {},
   "outputs": [],
   "source": [
    "arr1 = np.array(data1)"
   ]
  },
  {
   "cell_type": "code",
   "execution_count": 5,
   "metadata": {},
   "outputs": [
    {
     "data": {
      "text/plain": [
       "array([6, 7, 5, 8, 0, 1])"
      ]
     },
     "execution_count": 5,
     "metadata": {},
     "output_type": "execute_result"
    }
   ],
   "source": [
    "arr1"
   ]
  },
  {
   "cell_type": "code",
   "execution_count": 6,
   "metadata": {},
   "outputs": [
    {
     "data": {
      "text/plain": [
       "array([[1, 2, 3, 4],\n",
       "       [5, 6, 7, 8]])"
      ]
     },
     "execution_count": 6,
     "metadata": {},
     "output_type": "execute_result"
    }
   ],
   "source": [
    "data2 = [[1,2,3,4],[5,6,7,8]]\n",
    "arr2 = np.array(data2)\n",
    "arr2"
   ]
  },
  {
   "cell_type": "code",
   "execution_count": 7,
   "metadata": {},
   "outputs": [
    {
     "data": {
      "text/plain": [
       "2"
      ]
     },
     "execution_count": 7,
     "metadata": {},
     "output_type": "execute_result"
    }
   ],
   "source": [
    "arr2.ndim"
   ]
  },
  {
   "cell_type": "code",
   "execution_count": 8,
   "metadata": {},
   "outputs": [
    {
     "data": {
      "text/plain": [
       "(2, 4)"
      ]
     },
     "execution_count": 8,
     "metadata": {},
     "output_type": "execute_result"
    }
   ],
   "source": [
    "arr2.shape"
   ]
  },
  {
   "cell_type": "code",
   "execution_count": 10,
   "metadata": {},
   "outputs": [
    {
     "data": {
      "text/plain": [
       "dtype('int32')"
      ]
     },
     "execution_count": 10,
     "metadata": {},
     "output_type": "execute_result"
    }
   ],
   "source": [
    "arr1.dtype"
   ]
  },
  {
   "cell_type": "code",
   "execution_count": 11,
   "metadata": {},
   "outputs": [
    {
     "data": {
      "text/plain": [
       "dtype('int32')"
      ]
     },
     "execution_count": 11,
     "metadata": {},
     "output_type": "execute_result"
    }
   ],
   "source": [
    "arr2.dtype"
   ]
  },
  {
   "cell_type": "code",
   "execution_count": 12,
   "metadata": {},
   "outputs": [
    {
     "data": {
      "text/plain": [
       "array([ 0.,  0.,  0.,  0.,  0.,  0.,  0.,  0.,  0.,  0.])"
      ]
     },
     "execution_count": 12,
     "metadata": {},
     "output_type": "execute_result"
    }
   ],
   "source": [
    "np.zeros(10)"
   ]
  },
  {
   "cell_type": "code",
   "execution_count": 14,
   "metadata": {},
   "outputs": [
    {
     "data": {
      "text/plain": [
       "array([[ 0.,  0.,  0.,  0.,  0.,  0.],\n",
       "       [ 0.,  0.,  0.,  0.,  0.,  0.],\n",
       "       [ 0.,  0.,  0.,  0.,  0.,  0.]])"
      ]
     },
     "execution_count": 14,
     "metadata": {},
     "output_type": "execute_result"
    }
   ],
   "source": [
    "np.zeros((3,6))"
   ]
  },
  {
   "cell_type": "code",
   "execution_count": 15,
   "metadata": {},
   "outputs": [
    {
     "data": {
      "text/plain": [
       "array([[[  1.04741917e-321,   0.00000000e+000],\n",
       "        [  0.00000000e+000,   0.00000000e+000],\n",
       "        [  0.00000000e+000,   0.00000000e+000]],\n",
       "\n",
       "       [[  0.00000000e+000,   0.00000000e+000],\n",
       "        [  0.00000000e+000,   0.00000000e+000],\n",
       "        [  0.00000000e+000,   0.00000000e+000]]])"
      ]
     },
     "execution_count": 15,
     "metadata": {},
     "output_type": "execute_result"
    }
   ],
   "source": [
    "np.empty((2,3,2))"
   ]
  },
  {
   "cell_type": "code",
   "execution_count": 17,
   "metadata": {},
   "outputs": [
    {
     "data": {
      "text/plain": [
       "array([ 0,  1,  2,  3,  4,  5,  6,  7,  8,  9, 10, 11, 12, 13, 14])"
      ]
     },
     "execution_count": 17,
     "metadata": {},
     "output_type": "execute_result"
    }
   ],
   "source": [
    "np.arange(15)"
   ]
  },
  {
   "cell_type": "code",
   "execution_count": 19,
   "metadata": {},
   "outputs": [
    {
     "data": {
      "text/plain": [
       "array([[ 1.,  0.,  0.],\n",
       "       [ 0.,  1.,  0.],\n",
       "       [ 0.,  0.,  1.]])"
      ]
     },
     "execution_count": 19,
     "metadata": {},
     "output_type": "execute_result"
    }
   ],
   "source": [
    "np.eye(3)"
   ]
  },
  {
   "cell_type": "code",
   "execution_count": 20,
   "metadata": {},
   "outputs": [
    {
     "data": {
      "text/plain": [
       "array([[ 1.,  0.,  0.],\n",
       "       [ 0.,  1.,  0.],\n",
       "       [ 0.,  0.,  1.]])"
      ]
     },
     "execution_count": 20,
     "metadata": {},
     "output_type": "execute_result"
    }
   ],
   "source": [
    "np.identity(3)"
   ]
  },
  {
   "cell_type": "code",
   "execution_count": 23,
   "metadata": {},
   "outputs": [
    {
     "data": {
      "text/plain": [
       "dtype('float64')"
      ]
     },
     "execution_count": 23,
     "metadata": {},
     "output_type": "execute_result"
    }
   ],
   "source": [
    "arr1 = np.array([1,2,3],dtype=np.float64)\n",
    "arr1.dtype"
   ]
  },
  {
   "cell_type": "code",
   "execution_count": 24,
   "metadata": {},
   "outputs": [
    {
     "data": {
      "text/plain": [
       "dtype('int32')"
      ]
     },
     "execution_count": 24,
     "metadata": {},
     "output_type": "execute_result"
    }
   ],
   "source": [
    "arr2 = np.array([1,2,3],dtype=np.int32)\n",
    "arr2.dtype"
   ]
  },
  {
   "cell_type": "code",
   "execution_count": 25,
   "metadata": {},
   "outputs": [
    {
     "data": {
      "text/plain": [
       "array([1, 2, 3])"
      ]
     },
     "execution_count": 25,
     "metadata": {},
     "output_type": "execute_result"
    }
   ],
   "source": [
    "arr2"
   ]
  },
  {
   "cell_type": "code",
   "execution_count": 27,
   "metadata": {},
   "outputs": [],
   "source": [
    "arr3 = np.array([1,2,3],dtype=np.complex64)"
   ]
  },
  {
   "cell_type": "code",
   "execution_count": 28,
   "metadata": {},
   "outputs": [
    {
     "data": {
      "text/plain": [
       "dtype('complex64')"
      ]
     },
     "execution_count": 28,
     "metadata": {},
     "output_type": "execute_result"
    }
   ],
   "source": [
    "arr3.dtype"
   ]
  },
  {
   "cell_type": "code",
   "execution_count": 29,
   "metadata": {},
   "outputs": [
    {
     "data": {
      "text/plain": [
       "array([ 1.+0.j,  2.+0.j,  3.+0.j], dtype=complex64)"
      ]
     },
     "execution_count": 29,
     "metadata": {},
     "output_type": "execute_result"
    }
   ],
   "source": [
    "arr3"
   ]
  },
  {
   "cell_type": "code",
   "execution_count": 30,
   "metadata": {},
   "outputs": [
    {
     "data": {
      "text/plain": [
       "dtype('int32')"
      ]
     },
     "execution_count": 30,
     "metadata": {},
     "output_type": "execute_result"
    }
   ],
   "source": [
    "arr = np.array([1,2,3,4,5])\n",
    "arr.dtype"
   ]
  },
  {
   "cell_type": "code",
   "execution_count": 31,
   "metadata": {},
   "outputs": [],
   "source": [
    "float_arr = arr.astype(np.float64)"
   ]
  },
  {
   "cell_type": "code",
   "execution_count": 32,
   "metadata": {},
   "outputs": [
    {
     "data": {
      "text/plain": [
       "dtype('float64')"
      ]
     },
     "execution_count": 32,
     "metadata": {},
     "output_type": "execute_result"
    }
   ],
   "source": [
    "float_arr.dtype"
   ]
  },
  {
   "cell_type": "code",
   "execution_count": 33,
   "metadata": {},
   "outputs": [
    {
     "data": {
      "text/plain": [
       "array([[ 1.,  3.,  3.],\n",
       "       [ 4.,  5.,  6.]])"
      ]
     },
     "execution_count": 33,
     "metadata": {},
     "output_type": "execute_result"
    }
   ],
   "source": [
    "arr = np.array([[1.,3.,3.],[4.,5.,6.]])\n",
    "arr"
   ]
  },
  {
   "cell_type": "code",
   "execution_count": 34,
   "metadata": {},
   "outputs": [
    {
     "data": {
      "text/plain": [
       "array([[  1.,   9.,   9.],\n",
       "       [ 16.,  25.,  36.]])"
      ]
     },
     "execution_count": 34,
     "metadata": {},
     "output_type": "execute_result"
    }
   ],
   "source": [
    "arr*arr"
   ]
  },
  {
   "cell_type": "code",
   "execution_count": 35,
   "metadata": {},
   "outputs": [
    {
     "data": {
      "text/plain": [
       "array([[ 0.,  0.,  0.],\n",
       "       [ 0.,  0.,  0.]])"
      ]
     },
     "execution_count": 35,
     "metadata": {},
     "output_type": "execute_result"
    }
   ],
   "source": [
    "arr - arr"
   ]
  },
  {
   "cell_type": "code",
   "execution_count": 36,
   "metadata": {},
   "outputs": [
    {
     "data": {
      "text/plain": [
       "array([[ 1.        ,  1.73205081,  1.73205081],\n",
       "       [ 2.        ,  2.23606798,  2.44948974]])"
      ]
     },
     "execution_count": 36,
     "metadata": {},
     "output_type": "execute_result"
    }
   ],
   "source": [
    "arr**0.5"
   ]
  },
  {
   "cell_type": "code",
   "execution_count": 37,
   "metadata": {},
   "outputs": [],
   "source": [
    "arr = np.arange(10)"
   ]
  },
  {
   "cell_type": "code",
   "execution_count": 38,
   "metadata": {},
   "outputs": [
    {
     "data": {
      "text/plain": [
       "array([0, 1, 2, 3, 4, 5, 6, 7, 8, 9])"
      ]
     },
     "execution_count": 38,
     "metadata": {},
     "output_type": "execute_result"
    }
   ],
   "source": [
    "arr"
   ]
  },
  {
   "cell_type": "code",
   "execution_count": 39,
   "metadata": {},
   "outputs": [],
   "source": [
    "arr_slice = arr[5:8]\n",
    "arr_slice[1] = 12345"
   ]
  },
  {
   "cell_type": "code",
   "execution_count": 40,
   "metadata": {},
   "outputs": [
    {
     "data": {
      "text/plain": [
       "array([    0,     1,     2,     3,     4,     5, 12345,     7,     8,     9])"
      ]
     },
     "execution_count": 40,
     "metadata": {},
     "output_type": "execute_result"
    }
   ],
   "source": [
    "arr"
   ]
  },
  {
   "cell_type": "code",
   "execution_count": 41,
   "metadata": {},
   "outputs": [
    {
     "data": {
      "text/plain": [
       "array([    5, 12345,     7])"
      ]
     },
     "execution_count": 41,
     "metadata": {},
     "output_type": "execute_result"
    }
   ],
   "source": [
    "arr_slice2 = arr[5:8].copy()\n",
    "arr_slice2[1] = 12345\n",
    "arr_slice2"
   ]
  },
  {
   "cell_type": "code",
   "execution_count": 43,
   "metadata": {},
   "outputs": [
    {
     "data": {
      "text/plain": [
       "array([7, 8, 9])"
      ]
     },
     "execution_count": 43,
     "metadata": {},
     "output_type": "execute_result"
    }
   ],
   "source": [
    "arr2d = np.array([[1,2,3],[4,5,6],[7,8,9]])\n",
    "arr2d[2]"
   ]
  },
  {
   "cell_type": "code",
   "execution_count": 47,
   "metadata": {},
   "outputs": [
    {
     "data": {
      "text/plain": [
       "3"
      ]
     },
     "execution_count": 47,
     "metadata": {},
     "output_type": "execute_result"
    }
   ],
   "source": [
    "arr2d[0][2]"
   ]
  },
  {
   "cell_type": "code",
   "execution_count": 48,
   "metadata": {},
   "outputs": [
    {
     "data": {
      "text/plain": [
       "3"
      ]
     },
     "execution_count": 48,
     "metadata": {},
     "output_type": "execute_result"
    }
   ],
   "source": [
    "arr2d[0,2]"
   ]
  },
  {
   "cell_type": "code",
   "execution_count": 49,
   "metadata": {},
   "outputs": [
    {
     "data": {
      "text/plain": [
       "array([[1, 2, 3],\n",
       "       [4, 5, 6],\n",
       "       [7, 8, 9]])"
      ]
     },
     "execution_count": 49,
     "metadata": {},
     "output_type": "execute_result"
    }
   ],
   "source": [
    "arr2d"
   ]
  },
  {
   "cell_type": "code",
   "execution_count": 50,
   "metadata": {},
   "outputs": [
    {
     "data": {
      "text/plain": [
       "array([[1, 2, 3],\n",
       "       [4, 5, 6]])"
      ]
     },
     "execution_count": 50,
     "metadata": {},
     "output_type": "execute_result"
    }
   ],
   "source": [
    "arr2d[:2]"
   ]
  },
  {
   "cell_type": "code",
   "execution_count": 51,
   "metadata": {},
   "outputs": [
    {
     "data": {
      "text/plain": [
       "array([[2, 3],\n",
       "       [5, 6]])"
      ]
     },
     "execution_count": 51,
     "metadata": {},
     "output_type": "execute_result"
    }
   ],
   "source": [
    "arr2d[:2,1:]"
   ]
  },
  {
   "cell_type": "code",
   "execution_count": 52,
   "metadata": {},
   "outputs": [
    {
     "data": {
      "text/plain": [
       "array([4, 5])"
      ]
     },
     "execution_count": 52,
     "metadata": {},
     "output_type": "execute_result"
    }
   ],
   "source": [
    "arr2d[1,:2]"
   ]
  },
  {
   "cell_type": "code",
   "execution_count": 53,
   "metadata": {},
   "outputs": [
    {
     "data": {
      "text/plain": [
       "array([7])"
      ]
     },
     "execution_count": 53,
     "metadata": {},
     "output_type": "execute_result"
    }
   ],
   "source": [
    "arr2d[2,:1]"
   ]
  },
  {
   "cell_type": "code",
   "execution_count": 54,
   "metadata": {},
   "outputs": [
    {
     "data": {
      "text/plain": [
       "array([[1, 0, 0],\n",
       "       [4, 0, 0],\n",
       "       [7, 8, 9]])"
      ]
     },
     "execution_count": 54,
     "metadata": {},
     "output_type": "execute_result"
    }
   ],
   "source": [
    "arr2d[:2,1:] = 0\n",
    "arr2d"
   ]
  },
  {
   "cell_type": "code",
   "execution_count": 59,
   "metadata": {},
   "outputs": [
    {
     "data": {
      "text/plain": [
       "array(['Bob', 'Joe', 'Will', 'Bob', 'Will', 'Joe', 'Joe'],\n",
       "      dtype='<U4')"
      ]
     },
     "execution_count": 59,
     "metadata": {},
     "output_type": "execute_result"
    }
   ],
   "source": [
    "from numpy.random import randn\n",
    "names = np.array(['Bob','Joe','Will','Bob','Will','Joe','Joe'])\n",
    "data = randn(7,4)\n",
    "names"
   ]
  },
  {
   "cell_type": "code",
   "execution_count": 60,
   "metadata": {},
   "outputs": [
    {
     "data": {
      "text/plain": [
       "array([[ 0.82782561,  0.66935789,  1.0001558 , -1.91579014],\n",
       "       [-1.68975396,  0.69483237, -0.24791836, -1.02115077],\n",
       "       [-0.50072801, -2.07358429, -0.98590204, -0.83660654],\n",
       "       [-0.89983423, -0.8561282 , -3.19595007, -1.49335113],\n",
       "       [-0.84065235, -0.06929562,  1.66539346,  0.50260686],\n",
       "       [ 0.31999716,  2.51786892,  0.43866362,  0.18421333],\n",
       "       [-1.25942972, -0.04461679,  0.8681724 , -0.44627434]])"
      ]
     },
     "execution_count": 60,
     "metadata": {},
     "output_type": "execute_result"
    }
   ],
   "source": [
    "data"
   ]
  },
  {
   "cell_type": "code",
   "execution_count": 62,
   "metadata": {},
   "outputs": [
    {
     "data": {
      "text/plain": [
       "array([[1, 0, 0],\n",
       "       [4, 0, 0],\n",
       "       [7, 8, 9]])"
      ]
     },
     "execution_count": 62,
     "metadata": {},
     "output_type": "execute_result"
    }
   ],
   "source": [
    "arr2d"
   ]
  },
  {
   "cell_type": "code",
   "execution_count": 64,
   "metadata": {},
   "outputs": [
    {
     "data": {
      "text/plain": [
       "array([7, 8, 9])"
      ]
     },
     "execution_count": 64,
     "metadata": {},
     "output_type": "execute_result"
    }
   ],
   "source": [
    "arr2d[2,:]"
   ]
  },
  {
   "cell_type": "code",
   "execution_count": 65,
   "metadata": {},
   "outputs": [
    {
     "data": {
      "text/plain": [
       "array([[7, 8, 9]])"
      ]
     },
     "execution_count": 65,
     "metadata": {},
     "output_type": "execute_result"
    }
   ],
   "source": [
    "arr2d[2:,:]"
   ]
  },
  {
   "cell_type": "code",
   "execution_count": 66,
   "metadata": {},
   "outputs": [
    {
     "data": {
      "text/plain": [
       "array([ True, False, False,  True, False, False, False], dtype=bool)"
      ]
     },
     "execution_count": 66,
     "metadata": {},
     "output_type": "execute_result"
    }
   ],
   "source": [
    "names == 'Bob'"
   ]
  },
  {
   "cell_type": "code",
   "execution_count": 67,
   "metadata": {},
   "outputs": [
    {
     "data": {
      "text/plain": [
       "array([[ 0.82782561,  0.66935789,  1.0001558 , -1.91579014],\n",
       "       [-0.89983423, -0.8561282 , -3.19595007, -1.49335113]])"
      ]
     },
     "execution_count": 67,
     "metadata": {},
     "output_type": "execute_result"
    }
   ],
   "source": [
    "data[names=='Bob']"
   ]
  },
  {
   "cell_type": "code",
   "execution_count": 69,
   "metadata": {},
   "outputs": [
    {
     "data": {
      "text/plain": [
       "array([[ 1.0001558 , -1.91579014],\n",
       "       [-3.19595007, -1.49335113]])"
      ]
     },
     "execution_count": 69,
     "metadata": {},
     "output_type": "execute_result"
    }
   ],
   "source": [
    "data[names=='Bob',2:]"
   ]
  },
  {
   "cell_type": "code",
   "execution_count": 70,
   "metadata": {},
   "outputs": [
    {
     "data": {
      "text/plain": [
       "array([[-1.68975396,  0.69483237, -0.24791836, -1.02115077],\n",
       "       [-0.50072801, -2.07358429, -0.98590204, -0.83660654],\n",
       "       [-0.84065235, -0.06929562,  1.66539346,  0.50260686],\n",
       "       [ 0.31999716,  2.51786892,  0.43866362,  0.18421333],\n",
       "       [-1.25942972, -0.04461679,  0.8681724 , -0.44627434]])"
      ]
     },
     "execution_count": 70,
     "metadata": {},
     "output_type": "execute_result"
    }
   ],
   "source": [
    "data[names != 'Bob']"
   ]
  },
  {
   "cell_type": "code",
   "execution_count": 72,
   "metadata": {},
   "outputs": [
    {
     "data": {
      "text/plain": [
       "array([[ 0.82782561,  0.66935789,  1.0001558 , -1.91579014],\n",
       "       [-0.50072801, -2.07358429, -0.98590204, -0.83660654],\n",
       "       [-0.89983423, -0.8561282 , -3.19595007, -1.49335113],\n",
       "       [-0.84065235, -0.06929562,  1.66539346,  0.50260686]])"
      ]
     },
     "execution_count": 72,
     "metadata": {},
     "output_type": "execute_result"
    }
   ],
   "source": [
    "data[(names == 'Bob') | (names == 'Will')]"
   ]
  },
  {
   "cell_type": "code",
   "execution_count": 73,
   "metadata": {},
   "outputs": [
    {
     "data": {
      "text/plain": [
       "array([[ 0.82782561,  0.66935789,  1.0001558 ,  0.        ],\n",
       "       [ 0.        ,  0.69483237,  0.        ,  0.        ],\n",
       "       [ 0.        ,  0.        ,  0.        ,  0.        ],\n",
       "       [ 0.        ,  0.        ,  0.        ,  0.        ],\n",
       "       [ 0.        ,  0.        ,  1.66539346,  0.50260686],\n",
       "       [ 0.31999716,  2.51786892,  0.43866362,  0.18421333],\n",
       "       [ 0.        ,  0.        ,  0.8681724 ,  0.        ]])"
      ]
     },
     "execution_count": 73,
     "metadata": {},
     "output_type": "execute_result"
    }
   ],
   "source": [
    "data[data<0] = 0\n",
    "data"
   ]
  },
  {
   "cell_type": "code",
   "execution_count": 75,
   "metadata": {},
   "outputs": [
    {
     "data": {
      "text/plain": [
       "array([[ 0.,  0.,  0.,  0.],\n",
       "       [ 1.,  1.,  1.,  1.],\n",
       "       [ 2.,  2.,  2.,  2.],\n",
       "       [ 3.,  3.,  3.,  3.],\n",
       "       [ 4.,  4.,  4.,  4.],\n",
       "       [ 5.,  5.,  5.,  5.],\n",
       "       [ 6.,  6.,  6.,  6.],\n",
       "       [ 7.,  7.,  7.,  7.]])"
      ]
     },
     "execution_count": 75,
     "metadata": {},
     "output_type": "execute_result"
    }
   ],
   "source": [
    "arr = np.empty((8,4))\n",
    "for i in range(8):\n",
    "    arr[i] = i\n",
    "arr"
   ]
  },
  {
   "cell_type": "code",
   "execution_count": 76,
   "metadata": {},
   "outputs": [
    {
     "data": {
      "text/plain": [
       "array([[ 4.,  4.,  4.,  4.],\n",
       "       [ 3.,  3.,  3.,  3.],\n",
       "       [ 0.,  0.,  0.,  0.],\n",
       "       [ 6.,  6.,  6.,  6.]])"
      ]
     },
     "execution_count": 76,
     "metadata": {},
     "output_type": "execute_result"
    }
   ],
   "source": [
    "arr[[4,3,0,6]]"
   ]
  },
  {
   "cell_type": "code",
   "execution_count": 77,
   "metadata": {},
   "outputs": [
    {
     "data": {
      "text/plain": [
       "array([[ 5.,  5.,  5.,  5.],\n",
       "       [ 3.,  3.,  3.,  3.],\n",
       "       [ 1.,  1.,  1.,  1.]])"
      ]
     },
     "execution_count": 77,
     "metadata": {},
     "output_type": "execute_result"
    }
   ],
   "source": [
    "arr[[-3,-5,-7]]"
   ]
  },
  {
   "cell_type": "code",
   "execution_count": 78,
   "metadata": {},
   "outputs": [],
   "source": [
    "arr = np.arange(32).reshape((8,4))"
   ]
  },
  {
   "cell_type": "code",
   "execution_count": 79,
   "metadata": {},
   "outputs": [
    {
     "data": {
      "text/plain": [
       "array([[ 0,  1,  2,  3],\n",
       "       [ 4,  5,  6,  7],\n",
       "       [ 8,  9, 10, 11],\n",
       "       [12, 13, 14, 15],\n",
       "       [16, 17, 18, 19],\n",
       "       [20, 21, 22, 23],\n",
       "       [24, 25, 26, 27],\n",
       "       [28, 29, 30, 31]])"
      ]
     },
     "execution_count": 79,
     "metadata": {},
     "output_type": "execute_result"
    }
   ],
   "source": [
    "arr"
   ]
  },
  {
   "cell_type": "code",
   "execution_count": 80,
   "metadata": {},
   "outputs": [
    {
     "data": {
      "text/plain": [
       "array([ 4, 23, 29, 10])"
      ]
     },
     "execution_count": 80,
     "metadata": {},
     "output_type": "execute_result"
    }
   ],
   "source": [
    "arr[[1,5,7,2],[0,3,1,2]] #最终选的元素（1，0），（5，3），（7，1）和（2，2）"
   ]
  },
  {
   "cell_type": "code",
   "execution_count": 82,
   "metadata": {},
   "outputs": [
    {
     "data": {
      "text/plain": [
       "array([[ 4,  7,  5,  6],\n",
       "       [20, 23, 21, 22],\n",
       "       [28, 31, 29, 30],\n",
       "       [ 8, 11,  9, 10]])"
      ]
     },
     "execution_count": 82,
     "metadata": {},
     "output_type": "execute_result"
    }
   ],
   "source": [
    "arr[[1,5,7,2]][:,[0,3,1,2]]#花式索引，花式索引跟切片不一样，它总是将数据复制到新数组中"
   ]
  },
  {
   "cell_type": "code",
   "execution_count": 83,
   "metadata": {},
   "outputs": [
    {
     "data": {
      "text/plain": [
       "array([[ 4,  7,  5,  6],\n",
       "       [20, 23, 21, 22],\n",
       "       [28, 31, 29, 30],\n",
       "       [ 8, 11,  9, 10]])"
      ]
     },
     "execution_count": 83,
     "metadata": {},
     "output_type": "execute_result"
    }
   ],
   "source": [
    "arr[np.ix_([1,5,7,2],[0,3,1,2])]"
   ]
  },
  {
   "cell_type": "code",
   "execution_count": 84,
   "metadata": {},
   "outputs": [
    {
     "data": {
      "text/plain": [
       "array([[ 0,  1,  2,  3,  4],\n",
       "       [ 5,  6,  7,  8,  9],\n",
       "       [10, 11, 12, 13, 14]])"
      ]
     },
     "execution_count": 84,
     "metadata": {},
     "output_type": "execute_result"
    }
   ],
   "source": [
    "arr = np.arange(15).reshape((3,5))\n",
    "arr"
   ]
  },
  {
   "cell_type": "code",
   "execution_count": 86,
   "metadata": {},
   "outputs": [
    {
     "data": {
      "text/plain": [
       "array([[ 0,  5, 10],\n",
       "       [ 1,  6, 11],\n",
       "       [ 2,  7, 12],\n",
       "       [ 3,  8, 13],\n",
       "       [ 4,  9, 14]])"
      ]
     },
     "execution_count": 86,
     "metadata": {},
     "output_type": "execute_result"
    }
   ],
   "source": [
    "arr.T#数组转置"
   ]
  },
  {
   "cell_type": "code",
   "execution_count": 88,
   "metadata": {},
   "outputs": [
    {
     "data": {
      "text/plain": [
       "array([[ 1.1148312 , -0.69992994,  1.1134888 ],\n",
       "       [-1.30172224, -1.49712909,  1.02016155],\n",
       "       [-1.47344621,  0.35393197, -1.80319025],\n",
       "       [-0.51270148, -0.72727221, -0.8388645 ],\n",
       "       [ 1.70662397,  0.01520148, -0.04521346],\n",
       "       [ 2.30149782, -0.57563229, -0.92446828]])"
      ]
     },
     "execution_count": 88,
     "metadata": {},
     "output_type": "execute_result"
    }
   ],
   "source": [
    "arr = np.random.randn(6,3)\n",
    "arr"
   ]
  },
  {
   "cell_type": "code",
   "execution_count": 89,
   "metadata": {},
   "outputs": [
    {
     "data": {
      "text/plain": [
       "array([[ 13.58069351,  -0.27895693,   0.79555188],\n",
       "       [ -0.27895693,   3.71707376,  -1.80333505],\n",
       "       [  0.79555188,  -1.80333505,   7.09246148]])"
      ]
     },
     "execution_count": 89,
     "metadata": {},
     "output_type": "execute_result"
    }
   ],
   "source": [
    "np.dot(arr.T,arr)"
   ]
  },
  {
   "cell_type": "code",
   "execution_count": 90,
   "metadata": {},
   "outputs": [
    {
     "data": {
      "text/plain": [
       "array([[[ 0,  1,  2,  3],\n",
       "        [ 4,  5,  6,  7]],\n",
       "\n",
       "       [[ 8,  9, 10, 11],\n",
       "        [12, 13, 14, 15]]])"
      ]
     },
     "execution_count": 90,
     "metadata": {},
     "output_type": "execute_result"
    }
   ],
   "source": [
    "arr = np.arange(16).reshape((2,2,4))\n",
    "arr"
   ]
  },
  {
   "cell_type": "code",
   "execution_count": 91,
   "metadata": {},
   "outputs": [
    {
     "data": {
      "text/plain": [
       "array([[[ 0,  1,  2,  3],\n",
       "        [ 8,  9, 10, 11]],\n",
       "\n",
       "       [[ 4,  5,  6,  7],\n",
       "        [12, 13, 14, 15]]])"
      ]
     },
     "execution_count": 91,
     "metadata": {},
     "output_type": "execute_result"
    }
   ],
   "source": [
    "arr.transpose((1,0,2))#???? 轴对换"
   ]
  },
  {
   "cell_type": "code",
   "execution_count": 93,
   "metadata": {},
   "outputs": [
    {
     "data": {
      "text/plain": [
       "array([[[ 0,  4],\n",
       "        [ 1,  5],\n",
       "        [ 2,  6],\n",
       "        [ 3,  7]],\n",
       "\n",
       "       [[ 8, 12],\n",
       "        [ 9, 13],\n",
       "        [10, 14],\n",
       "        [11, 15]]])"
      ]
     },
     "execution_count": 93,
     "metadata": {},
     "output_type": "execute_result"
    }
   ],
   "source": [
    "arr.swapaxes(1,2) #swapaxes 也是返回源数据的视图不会进行任何复制操作"
   ]
  },
  {
   "cell_type": "code",
   "execution_count": 95,
   "metadata": {},
   "outputs": [
    {
     "data": {
      "text/plain": [
       "array([0, 1, 2, 3, 4, 5, 6, 7, 8, 9])"
      ]
     },
     "execution_count": 95,
     "metadata": {},
     "output_type": "execute_result"
    }
   ],
   "source": [
    "arr = np.arange(10)\n",
    "arr"
   ]
  },
  {
   "cell_type": "code",
   "execution_count": 96,
   "metadata": {},
   "outputs": [
    {
     "data": {
      "text/plain": [
       "array([ 0.        ,  1.        ,  1.41421356,  1.73205081,  2.        ,\n",
       "        2.23606798,  2.44948974,  2.64575131,  2.82842712,  3.        ])"
      ]
     },
     "execution_count": 96,
     "metadata": {},
     "output_type": "execute_result"
    }
   ],
   "source": [
    "np.sqrt(arr)"
   ]
  },
  {
   "cell_type": "code",
   "execution_count": 97,
   "metadata": {},
   "outputs": [
    {
     "data": {
      "text/plain": [
       "array([  1.00000000e+00,   2.71828183e+00,   7.38905610e+00,\n",
       "         2.00855369e+01,   5.45981500e+01,   1.48413159e+02,\n",
       "         4.03428793e+02,   1.09663316e+03,   2.98095799e+03,\n",
       "         8.10308393e+03])"
      ]
     },
     "execution_count": 97,
     "metadata": {},
     "output_type": "execute_result"
    }
   ],
   "source": [
    "np.exp(arr)"
   ]
  },
  {
   "cell_type": "code",
   "execution_count": 98,
   "metadata": {},
   "outputs": [
    {
     "data": {
      "text/plain": [
       "array([ 1.36840379, -0.89843099,  0.69795373, -1.0902571 ,  0.14129881,\n",
       "       -0.02806327,  1.45584518,  0.39810234])"
      ]
     },
     "execution_count": 98,
     "metadata": {},
     "output_type": "execute_result"
    }
   ],
   "source": [
    "x = randn(8)\n",
    "y = randn(8)\n",
    "x"
   ]
  },
  {
   "cell_type": "code",
   "execution_count": 99,
   "metadata": {},
   "outputs": [
    {
     "data": {
      "text/plain": [
       "array([ 1.19224464, -0.71930146,  0.25651949, -1.33022209, -0.43157184,\n",
       "       -0.1290418 ,  0.61438845, -0.13076003])"
      ]
     },
     "execution_count": 99,
     "metadata": {},
     "output_type": "execute_result"
    }
   ],
   "source": [
    "y"
   ]
  },
  {
   "cell_type": "code",
   "execution_count": 100,
   "metadata": {},
   "outputs": [
    {
     "data": {
      "text/plain": [
       "array([ 1.36840379, -0.71930146,  0.69795373, -1.0902571 ,  0.14129881,\n",
       "       -0.02806327,  1.45584518,  0.39810234])"
      ]
     },
     "execution_count": 100,
     "metadata": {},
     "output_type": "execute_result"
    }
   ],
   "source": [
    "np.maximum(x,y)"
   ]
  },
  {
   "cell_type": "code",
   "execution_count": 101,
   "metadata": {},
   "outputs": [
    {
     "data": {
      "text/plain": [
       "(array([ 0.07331725,  0.10087492,  0.70769865, -0.46536046,  0.75935521,\n",
       "        -0.07103534, -0.82596973]), array([ 3.,  4.,  1., -3.,  6., -0., -2.]))"
      ]
     },
     "execution_count": 101,
     "metadata": {},
     "output_type": "execute_result"
    }
   ],
   "source": [
    "arr = randn(7)*5\n",
    "np.modf(arr)"
   ]
  },
  {
   "cell_type": "code",
   "execution_count": 105,
   "metadata": {},
   "outputs": [
    {
     "data": {
      "text/plain": [
       "array([ -5.00000000e+00,  -4.99000000e+00,  -4.98000000e+00,\n",
       "        -4.97000000e+00,  -4.96000000e+00,  -4.95000000e+00,\n",
       "        -4.94000000e+00,  -4.93000000e+00,  -4.92000000e+00,\n",
       "        -4.91000000e+00,  -4.90000000e+00,  -4.89000000e+00,\n",
       "        -4.88000000e+00,  -4.87000000e+00,  -4.86000000e+00,\n",
       "        -4.85000000e+00,  -4.84000000e+00,  -4.83000000e+00,\n",
       "        -4.82000000e+00,  -4.81000000e+00,  -4.80000000e+00,\n",
       "        -4.79000000e+00,  -4.78000000e+00,  -4.77000000e+00,\n",
       "        -4.76000000e+00,  -4.75000000e+00,  -4.74000000e+00,\n",
       "        -4.73000000e+00,  -4.72000000e+00,  -4.71000000e+00,\n",
       "        -4.70000000e+00,  -4.69000000e+00,  -4.68000000e+00,\n",
       "        -4.67000000e+00,  -4.66000000e+00,  -4.65000000e+00,\n",
       "        -4.64000000e+00,  -4.63000000e+00,  -4.62000000e+00,\n",
       "        -4.61000000e+00,  -4.60000000e+00,  -4.59000000e+00,\n",
       "        -4.58000000e+00,  -4.57000000e+00,  -4.56000000e+00,\n",
       "        -4.55000000e+00,  -4.54000000e+00,  -4.53000000e+00,\n",
       "        -4.52000000e+00,  -4.51000000e+00,  -4.50000000e+00,\n",
       "        -4.49000000e+00,  -4.48000000e+00,  -4.47000000e+00,\n",
       "        -4.46000000e+00,  -4.45000000e+00,  -4.44000000e+00,\n",
       "        -4.43000000e+00,  -4.42000000e+00,  -4.41000000e+00,\n",
       "        -4.40000000e+00,  -4.39000000e+00,  -4.38000000e+00,\n",
       "        -4.37000000e+00,  -4.36000000e+00,  -4.35000000e+00,\n",
       "        -4.34000000e+00,  -4.33000000e+00,  -4.32000000e+00,\n",
       "        -4.31000000e+00,  -4.30000000e+00,  -4.29000000e+00,\n",
       "        -4.28000000e+00,  -4.27000000e+00,  -4.26000000e+00,\n",
       "        -4.25000000e+00,  -4.24000000e+00,  -4.23000000e+00,\n",
       "        -4.22000000e+00,  -4.21000000e+00,  -4.20000000e+00,\n",
       "        -4.19000000e+00,  -4.18000000e+00,  -4.17000000e+00,\n",
       "        -4.16000000e+00,  -4.15000000e+00,  -4.14000000e+00,\n",
       "        -4.13000000e+00,  -4.12000000e+00,  -4.11000000e+00,\n",
       "        -4.10000000e+00,  -4.09000000e+00,  -4.08000000e+00,\n",
       "        -4.07000000e+00,  -4.06000000e+00,  -4.05000000e+00,\n",
       "        -4.04000000e+00,  -4.03000000e+00,  -4.02000000e+00,\n",
       "        -4.01000000e+00,  -4.00000000e+00,  -3.99000000e+00,\n",
       "        -3.98000000e+00,  -3.97000000e+00,  -3.96000000e+00,\n",
       "        -3.95000000e+00,  -3.94000000e+00,  -3.93000000e+00,\n",
       "        -3.92000000e+00,  -3.91000000e+00,  -3.90000000e+00,\n",
       "        -3.89000000e+00,  -3.88000000e+00,  -3.87000000e+00,\n",
       "        -3.86000000e+00,  -3.85000000e+00,  -3.84000000e+00,\n",
       "        -3.83000000e+00,  -3.82000000e+00,  -3.81000000e+00,\n",
       "        -3.80000000e+00,  -3.79000000e+00,  -3.78000000e+00,\n",
       "        -3.77000000e+00,  -3.76000000e+00,  -3.75000000e+00,\n",
       "        -3.74000000e+00,  -3.73000000e+00,  -3.72000000e+00,\n",
       "        -3.71000000e+00,  -3.70000000e+00,  -3.69000000e+00,\n",
       "        -3.68000000e+00,  -3.67000000e+00,  -3.66000000e+00,\n",
       "        -3.65000000e+00,  -3.64000000e+00,  -3.63000000e+00,\n",
       "        -3.62000000e+00,  -3.61000000e+00,  -3.60000000e+00,\n",
       "        -3.59000000e+00,  -3.58000000e+00,  -3.57000000e+00,\n",
       "        -3.56000000e+00,  -3.55000000e+00,  -3.54000000e+00,\n",
       "        -3.53000000e+00,  -3.52000000e+00,  -3.51000000e+00,\n",
       "        -3.50000000e+00,  -3.49000000e+00,  -3.48000000e+00,\n",
       "        -3.47000000e+00,  -3.46000000e+00,  -3.45000000e+00,\n",
       "        -3.44000000e+00,  -3.43000000e+00,  -3.42000000e+00,\n",
       "        -3.41000000e+00,  -3.40000000e+00,  -3.39000000e+00,\n",
       "        -3.38000000e+00,  -3.37000000e+00,  -3.36000000e+00,\n",
       "        -3.35000000e+00,  -3.34000000e+00,  -3.33000000e+00,\n",
       "        -3.32000000e+00,  -3.31000000e+00,  -3.30000000e+00,\n",
       "        -3.29000000e+00,  -3.28000000e+00,  -3.27000000e+00,\n",
       "        -3.26000000e+00,  -3.25000000e+00,  -3.24000000e+00,\n",
       "        -3.23000000e+00,  -3.22000000e+00,  -3.21000000e+00,\n",
       "        -3.20000000e+00,  -3.19000000e+00,  -3.18000000e+00,\n",
       "        -3.17000000e+00,  -3.16000000e+00,  -3.15000000e+00,\n",
       "        -3.14000000e+00,  -3.13000000e+00,  -3.12000000e+00,\n",
       "        -3.11000000e+00,  -3.10000000e+00,  -3.09000000e+00,\n",
       "        -3.08000000e+00,  -3.07000000e+00,  -3.06000000e+00,\n",
       "        -3.05000000e+00,  -3.04000000e+00,  -3.03000000e+00,\n",
       "        -3.02000000e+00,  -3.01000000e+00,  -3.00000000e+00,\n",
       "        -2.99000000e+00,  -2.98000000e+00,  -2.97000000e+00,\n",
       "        -2.96000000e+00,  -2.95000000e+00,  -2.94000000e+00,\n",
       "        -2.93000000e+00,  -2.92000000e+00,  -2.91000000e+00,\n",
       "        -2.90000000e+00,  -2.89000000e+00,  -2.88000000e+00,\n",
       "        -2.87000000e+00,  -2.86000000e+00,  -2.85000000e+00,\n",
       "        -2.84000000e+00,  -2.83000000e+00,  -2.82000000e+00,\n",
       "        -2.81000000e+00,  -2.80000000e+00,  -2.79000000e+00,\n",
       "        -2.78000000e+00,  -2.77000000e+00,  -2.76000000e+00,\n",
       "        -2.75000000e+00,  -2.74000000e+00,  -2.73000000e+00,\n",
       "        -2.72000000e+00,  -2.71000000e+00,  -2.70000000e+00,\n",
       "        -2.69000000e+00,  -2.68000000e+00,  -2.67000000e+00,\n",
       "        -2.66000000e+00,  -2.65000000e+00,  -2.64000000e+00,\n",
       "        -2.63000000e+00,  -2.62000000e+00,  -2.61000000e+00,\n",
       "        -2.60000000e+00,  -2.59000000e+00,  -2.58000000e+00,\n",
       "        -2.57000000e+00,  -2.56000000e+00,  -2.55000000e+00,\n",
       "        -2.54000000e+00,  -2.53000000e+00,  -2.52000000e+00,\n",
       "        -2.51000000e+00,  -2.50000000e+00,  -2.49000000e+00,\n",
       "        -2.48000000e+00,  -2.47000000e+00,  -2.46000000e+00,\n",
       "        -2.45000000e+00,  -2.44000000e+00,  -2.43000000e+00,\n",
       "        -2.42000000e+00,  -2.41000000e+00,  -2.40000000e+00,\n",
       "        -2.39000000e+00,  -2.38000000e+00,  -2.37000000e+00,\n",
       "        -2.36000000e+00,  -2.35000000e+00,  -2.34000000e+00,\n",
       "        -2.33000000e+00,  -2.32000000e+00,  -2.31000000e+00,\n",
       "        -2.30000000e+00,  -2.29000000e+00,  -2.28000000e+00,\n",
       "        -2.27000000e+00,  -2.26000000e+00,  -2.25000000e+00,\n",
       "        -2.24000000e+00,  -2.23000000e+00,  -2.22000000e+00,\n",
       "        -2.21000000e+00,  -2.20000000e+00,  -2.19000000e+00,\n",
       "        -2.18000000e+00,  -2.17000000e+00,  -2.16000000e+00,\n",
       "        -2.15000000e+00,  -2.14000000e+00,  -2.13000000e+00,\n",
       "        -2.12000000e+00,  -2.11000000e+00,  -2.10000000e+00,\n",
       "        -2.09000000e+00,  -2.08000000e+00,  -2.07000000e+00,\n",
       "        -2.06000000e+00,  -2.05000000e+00,  -2.04000000e+00,\n",
       "        -2.03000000e+00,  -2.02000000e+00,  -2.01000000e+00,\n",
       "        -2.00000000e+00,  -1.99000000e+00,  -1.98000000e+00,\n",
       "        -1.97000000e+00,  -1.96000000e+00,  -1.95000000e+00,\n",
       "        -1.94000000e+00,  -1.93000000e+00,  -1.92000000e+00,\n",
       "        -1.91000000e+00,  -1.90000000e+00,  -1.89000000e+00,\n",
       "        -1.88000000e+00,  -1.87000000e+00,  -1.86000000e+00,\n",
       "        -1.85000000e+00,  -1.84000000e+00,  -1.83000000e+00,\n",
       "        -1.82000000e+00,  -1.81000000e+00,  -1.80000000e+00,\n",
       "        -1.79000000e+00,  -1.78000000e+00,  -1.77000000e+00,\n",
       "        -1.76000000e+00,  -1.75000000e+00,  -1.74000000e+00,\n",
       "        -1.73000000e+00,  -1.72000000e+00,  -1.71000000e+00,\n",
       "        -1.70000000e+00,  -1.69000000e+00,  -1.68000000e+00,\n",
       "        -1.67000000e+00,  -1.66000000e+00,  -1.65000000e+00,\n",
       "        -1.64000000e+00,  -1.63000000e+00,  -1.62000000e+00,\n",
       "        -1.61000000e+00,  -1.60000000e+00,  -1.59000000e+00,\n",
       "        -1.58000000e+00,  -1.57000000e+00,  -1.56000000e+00,\n",
       "        -1.55000000e+00,  -1.54000000e+00,  -1.53000000e+00,\n",
       "        -1.52000000e+00,  -1.51000000e+00,  -1.50000000e+00,\n",
       "        -1.49000000e+00,  -1.48000000e+00,  -1.47000000e+00,\n",
       "        -1.46000000e+00,  -1.45000000e+00,  -1.44000000e+00,\n",
       "        -1.43000000e+00,  -1.42000000e+00,  -1.41000000e+00,\n",
       "        -1.40000000e+00,  -1.39000000e+00,  -1.38000000e+00,\n",
       "        -1.37000000e+00,  -1.36000000e+00,  -1.35000000e+00,\n",
       "        -1.34000000e+00,  -1.33000000e+00,  -1.32000000e+00,\n",
       "        -1.31000000e+00,  -1.30000000e+00,  -1.29000000e+00,\n",
       "        -1.28000000e+00,  -1.27000000e+00,  -1.26000000e+00,\n",
       "        -1.25000000e+00,  -1.24000000e+00,  -1.23000000e+00,\n",
       "        -1.22000000e+00,  -1.21000000e+00,  -1.20000000e+00,\n",
       "        -1.19000000e+00,  -1.18000000e+00,  -1.17000000e+00,\n",
       "        -1.16000000e+00,  -1.15000000e+00,  -1.14000000e+00,\n",
       "        -1.13000000e+00,  -1.12000000e+00,  -1.11000000e+00,\n",
       "        -1.10000000e+00,  -1.09000000e+00,  -1.08000000e+00,\n",
       "        -1.07000000e+00,  -1.06000000e+00,  -1.05000000e+00,\n",
       "        -1.04000000e+00,  -1.03000000e+00,  -1.02000000e+00,\n",
       "        -1.01000000e+00,  -1.00000000e+00,  -9.90000000e-01,\n",
       "        -9.80000000e-01,  -9.70000000e-01,  -9.60000000e-01,\n",
       "        -9.50000000e-01,  -9.40000000e-01,  -9.30000000e-01,\n",
       "        -9.20000000e-01,  -9.10000000e-01,  -9.00000000e-01,\n",
       "        -8.90000000e-01,  -8.80000000e-01,  -8.70000000e-01,\n",
       "        -8.60000000e-01,  -8.50000000e-01,  -8.40000000e-01,\n",
       "        -8.30000000e-01,  -8.20000000e-01,  -8.10000000e-01,\n",
       "        -8.00000000e-01,  -7.90000000e-01,  -7.80000000e-01,\n",
       "        -7.70000000e-01,  -7.60000000e-01,  -7.50000000e-01,\n",
       "        -7.40000000e-01,  -7.30000000e-01,  -7.20000000e-01,\n",
       "        -7.10000000e-01,  -7.00000000e-01,  -6.90000000e-01,\n",
       "        -6.80000000e-01,  -6.70000000e-01,  -6.60000000e-01,\n",
       "        -6.50000000e-01,  -6.40000000e-01,  -6.30000000e-01,\n",
       "        -6.20000000e-01,  -6.10000000e-01,  -6.00000000e-01,\n",
       "        -5.90000000e-01,  -5.80000000e-01,  -5.70000000e-01,\n",
       "        -5.60000000e-01,  -5.50000000e-01,  -5.40000000e-01,\n",
       "        -5.30000000e-01,  -5.20000000e-01,  -5.10000000e-01,\n",
       "        -5.00000000e-01,  -4.90000000e-01,  -4.80000000e-01,\n",
       "        -4.70000000e-01,  -4.60000000e-01,  -4.50000000e-01,\n",
       "        -4.40000000e-01,  -4.30000000e-01,  -4.20000000e-01,\n",
       "        -4.10000000e-01,  -4.00000000e-01,  -3.90000000e-01,\n",
       "        -3.80000000e-01,  -3.70000000e-01,  -3.60000000e-01,\n",
       "        -3.50000000e-01,  -3.40000000e-01,  -3.30000000e-01,\n",
       "        -3.20000000e-01,  -3.10000000e-01,  -3.00000000e-01,\n",
       "        -2.90000000e-01,  -2.80000000e-01,  -2.70000000e-01,\n",
       "        -2.60000000e-01,  -2.50000000e-01,  -2.40000000e-01,\n",
       "        -2.30000000e-01,  -2.20000000e-01,  -2.10000000e-01,\n",
       "        -2.00000000e-01,  -1.90000000e-01,  -1.80000000e-01,\n",
       "        -1.70000000e-01,  -1.60000000e-01,  -1.50000000e-01,\n",
       "        -1.40000000e-01,  -1.30000000e-01,  -1.20000000e-01,\n",
       "        -1.10000000e-01,  -1.00000000e-01,  -9.00000000e-02,\n",
       "        -8.00000000e-02,  -7.00000000e-02,  -6.00000000e-02,\n",
       "        -5.00000000e-02,  -4.00000000e-02,  -3.00000000e-02,\n",
       "        -2.00000000e-02,  -1.00000000e-02,  -1.06581410e-13,\n",
       "         1.00000000e-02,   2.00000000e-02,   3.00000000e-02,\n",
       "         4.00000000e-02,   5.00000000e-02,   6.00000000e-02,\n",
       "         7.00000000e-02,   8.00000000e-02,   9.00000000e-02,\n",
       "         1.00000000e-01,   1.10000000e-01,   1.20000000e-01,\n",
       "         1.30000000e-01,   1.40000000e-01,   1.50000000e-01,\n",
       "         1.60000000e-01,   1.70000000e-01,   1.80000000e-01,\n",
       "         1.90000000e-01,   2.00000000e-01,   2.10000000e-01,\n",
       "         2.20000000e-01,   2.30000000e-01,   2.40000000e-01,\n",
       "         2.50000000e-01,   2.60000000e-01,   2.70000000e-01,\n",
       "         2.80000000e-01,   2.90000000e-01,   3.00000000e-01,\n",
       "         3.10000000e-01,   3.20000000e-01,   3.30000000e-01,\n",
       "         3.40000000e-01,   3.50000000e-01,   3.60000000e-01,\n",
       "         3.70000000e-01,   3.80000000e-01,   3.90000000e-01,\n",
       "         4.00000000e-01,   4.10000000e-01,   4.20000000e-01,\n",
       "         4.30000000e-01,   4.40000000e-01,   4.50000000e-01,\n",
       "         4.60000000e-01,   4.70000000e-01,   4.80000000e-01,\n",
       "         4.90000000e-01,   5.00000000e-01,   5.10000000e-01,\n",
       "         5.20000000e-01,   5.30000000e-01,   5.40000000e-01,\n",
       "         5.50000000e-01,   5.60000000e-01,   5.70000000e-01,\n",
       "         5.80000000e-01,   5.90000000e-01,   6.00000000e-01,\n",
       "         6.10000000e-01,   6.20000000e-01,   6.30000000e-01,\n",
       "         6.40000000e-01,   6.50000000e-01,   6.60000000e-01,\n",
       "         6.70000000e-01,   6.80000000e-01,   6.90000000e-01,\n",
       "         7.00000000e-01,   7.10000000e-01,   7.20000000e-01,\n",
       "         7.30000000e-01,   7.40000000e-01,   7.50000000e-01,\n",
       "         7.60000000e-01,   7.70000000e-01,   7.80000000e-01,\n",
       "         7.90000000e-01,   8.00000000e-01,   8.10000000e-01,\n",
       "         8.20000000e-01,   8.30000000e-01,   8.40000000e-01,\n",
       "         8.50000000e-01,   8.60000000e-01,   8.70000000e-01,\n",
       "         8.80000000e-01,   8.90000000e-01,   9.00000000e-01,\n",
       "         9.10000000e-01,   9.20000000e-01,   9.30000000e-01,\n",
       "         9.40000000e-01,   9.50000000e-01,   9.60000000e-01,\n",
       "         9.70000000e-01,   9.80000000e-01,   9.90000000e-01,\n",
       "         1.00000000e+00,   1.01000000e+00,   1.02000000e+00,\n",
       "         1.03000000e+00,   1.04000000e+00,   1.05000000e+00,\n",
       "         1.06000000e+00,   1.07000000e+00,   1.08000000e+00,\n",
       "         1.09000000e+00,   1.10000000e+00,   1.11000000e+00,\n",
       "         1.12000000e+00,   1.13000000e+00,   1.14000000e+00,\n",
       "         1.15000000e+00,   1.16000000e+00,   1.17000000e+00,\n",
       "         1.18000000e+00,   1.19000000e+00,   1.20000000e+00,\n",
       "         1.21000000e+00,   1.22000000e+00,   1.23000000e+00,\n",
       "         1.24000000e+00,   1.25000000e+00,   1.26000000e+00,\n",
       "         1.27000000e+00,   1.28000000e+00,   1.29000000e+00,\n",
       "         1.30000000e+00,   1.31000000e+00,   1.32000000e+00,\n",
       "         1.33000000e+00,   1.34000000e+00,   1.35000000e+00,\n",
       "         1.36000000e+00,   1.37000000e+00,   1.38000000e+00,\n",
       "         1.39000000e+00,   1.40000000e+00,   1.41000000e+00,\n",
       "         1.42000000e+00,   1.43000000e+00,   1.44000000e+00,\n",
       "         1.45000000e+00,   1.46000000e+00,   1.47000000e+00,\n",
       "         1.48000000e+00,   1.49000000e+00,   1.50000000e+00,\n",
       "         1.51000000e+00,   1.52000000e+00,   1.53000000e+00,\n",
       "         1.54000000e+00,   1.55000000e+00,   1.56000000e+00,\n",
       "         1.57000000e+00,   1.58000000e+00,   1.59000000e+00,\n",
       "         1.60000000e+00,   1.61000000e+00,   1.62000000e+00,\n",
       "         1.63000000e+00,   1.64000000e+00,   1.65000000e+00,\n",
       "         1.66000000e+00,   1.67000000e+00,   1.68000000e+00,\n",
       "         1.69000000e+00,   1.70000000e+00,   1.71000000e+00,\n",
       "         1.72000000e+00,   1.73000000e+00,   1.74000000e+00,\n",
       "         1.75000000e+00,   1.76000000e+00,   1.77000000e+00,\n",
       "         1.78000000e+00,   1.79000000e+00,   1.80000000e+00,\n",
       "         1.81000000e+00,   1.82000000e+00,   1.83000000e+00,\n",
       "         1.84000000e+00,   1.85000000e+00,   1.86000000e+00,\n",
       "         1.87000000e+00,   1.88000000e+00,   1.89000000e+00,\n",
       "         1.90000000e+00,   1.91000000e+00,   1.92000000e+00,\n",
       "         1.93000000e+00,   1.94000000e+00,   1.95000000e+00,\n",
       "         1.96000000e+00,   1.97000000e+00,   1.98000000e+00,\n",
       "         1.99000000e+00,   2.00000000e+00,   2.01000000e+00,\n",
       "         2.02000000e+00,   2.03000000e+00,   2.04000000e+00,\n",
       "         2.05000000e+00,   2.06000000e+00,   2.07000000e+00,\n",
       "         2.08000000e+00,   2.09000000e+00,   2.10000000e+00,\n",
       "         2.11000000e+00,   2.12000000e+00,   2.13000000e+00,\n",
       "         2.14000000e+00,   2.15000000e+00,   2.16000000e+00,\n",
       "         2.17000000e+00,   2.18000000e+00,   2.19000000e+00,\n",
       "         2.20000000e+00,   2.21000000e+00,   2.22000000e+00,\n",
       "         2.23000000e+00,   2.24000000e+00,   2.25000000e+00,\n",
       "         2.26000000e+00,   2.27000000e+00,   2.28000000e+00,\n",
       "         2.29000000e+00,   2.30000000e+00,   2.31000000e+00,\n",
       "         2.32000000e+00,   2.33000000e+00,   2.34000000e+00,\n",
       "         2.35000000e+00,   2.36000000e+00,   2.37000000e+00,\n",
       "         2.38000000e+00,   2.39000000e+00,   2.40000000e+00,\n",
       "         2.41000000e+00,   2.42000000e+00,   2.43000000e+00,\n",
       "         2.44000000e+00,   2.45000000e+00,   2.46000000e+00,\n",
       "         2.47000000e+00,   2.48000000e+00,   2.49000000e+00,\n",
       "         2.50000000e+00,   2.51000000e+00,   2.52000000e+00,\n",
       "         2.53000000e+00,   2.54000000e+00,   2.55000000e+00,\n",
       "         2.56000000e+00,   2.57000000e+00,   2.58000000e+00,\n",
       "         2.59000000e+00,   2.60000000e+00,   2.61000000e+00,\n",
       "         2.62000000e+00,   2.63000000e+00,   2.64000000e+00,\n",
       "         2.65000000e+00,   2.66000000e+00,   2.67000000e+00,\n",
       "         2.68000000e+00,   2.69000000e+00,   2.70000000e+00,\n",
       "         2.71000000e+00,   2.72000000e+00,   2.73000000e+00,\n",
       "         2.74000000e+00,   2.75000000e+00,   2.76000000e+00,\n",
       "         2.77000000e+00,   2.78000000e+00,   2.79000000e+00,\n",
       "         2.80000000e+00,   2.81000000e+00,   2.82000000e+00,\n",
       "         2.83000000e+00,   2.84000000e+00,   2.85000000e+00,\n",
       "         2.86000000e+00,   2.87000000e+00,   2.88000000e+00,\n",
       "         2.89000000e+00,   2.90000000e+00,   2.91000000e+00,\n",
       "         2.92000000e+00,   2.93000000e+00,   2.94000000e+00,\n",
       "         2.95000000e+00,   2.96000000e+00,   2.97000000e+00,\n",
       "         2.98000000e+00,   2.99000000e+00,   3.00000000e+00,\n",
       "         3.01000000e+00,   3.02000000e+00,   3.03000000e+00,\n",
       "         3.04000000e+00,   3.05000000e+00,   3.06000000e+00,\n",
       "         3.07000000e+00,   3.08000000e+00,   3.09000000e+00,\n",
       "         3.10000000e+00,   3.11000000e+00,   3.12000000e+00,\n",
       "         3.13000000e+00,   3.14000000e+00,   3.15000000e+00,\n",
       "         3.16000000e+00,   3.17000000e+00,   3.18000000e+00,\n",
       "         3.19000000e+00,   3.20000000e+00,   3.21000000e+00,\n",
       "         3.22000000e+00,   3.23000000e+00,   3.24000000e+00,\n",
       "         3.25000000e+00,   3.26000000e+00,   3.27000000e+00,\n",
       "         3.28000000e+00,   3.29000000e+00,   3.30000000e+00,\n",
       "         3.31000000e+00,   3.32000000e+00,   3.33000000e+00,\n",
       "         3.34000000e+00,   3.35000000e+00,   3.36000000e+00,\n",
       "         3.37000000e+00,   3.38000000e+00,   3.39000000e+00,\n",
       "         3.40000000e+00,   3.41000000e+00,   3.42000000e+00,\n",
       "         3.43000000e+00,   3.44000000e+00,   3.45000000e+00,\n",
       "         3.46000000e+00,   3.47000000e+00,   3.48000000e+00,\n",
       "         3.49000000e+00,   3.50000000e+00,   3.51000000e+00,\n",
       "         3.52000000e+00,   3.53000000e+00,   3.54000000e+00,\n",
       "         3.55000000e+00,   3.56000000e+00,   3.57000000e+00,\n",
       "         3.58000000e+00,   3.59000000e+00,   3.60000000e+00,\n",
       "         3.61000000e+00,   3.62000000e+00,   3.63000000e+00,\n",
       "         3.64000000e+00,   3.65000000e+00,   3.66000000e+00,\n",
       "         3.67000000e+00,   3.68000000e+00,   3.69000000e+00,\n",
       "         3.70000000e+00,   3.71000000e+00,   3.72000000e+00,\n",
       "         3.73000000e+00,   3.74000000e+00,   3.75000000e+00,\n",
       "         3.76000000e+00,   3.77000000e+00,   3.78000000e+00,\n",
       "         3.79000000e+00,   3.80000000e+00,   3.81000000e+00,\n",
       "         3.82000000e+00,   3.83000000e+00,   3.84000000e+00,\n",
       "         3.85000000e+00,   3.86000000e+00,   3.87000000e+00,\n",
       "         3.88000000e+00,   3.89000000e+00,   3.90000000e+00,\n",
       "         3.91000000e+00,   3.92000000e+00,   3.93000000e+00,\n",
       "         3.94000000e+00,   3.95000000e+00,   3.96000000e+00,\n",
       "         3.97000000e+00,   3.98000000e+00,   3.99000000e+00,\n",
       "         4.00000000e+00,   4.01000000e+00,   4.02000000e+00,\n",
       "         4.03000000e+00,   4.04000000e+00,   4.05000000e+00,\n",
       "         4.06000000e+00,   4.07000000e+00,   4.08000000e+00,\n",
       "         4.09000000e+00,   4.10000000e+00,   4.11000000e+00,\n",
       "         4.12000000e+00,   4.13000000e+00,   4.14000000e+00,\n",
       "         4.15000000e+00,   4.16000000e+00,   4.17000000e+00,\n",
       "         4.18000000e+00,   4.19000000e+00,   4.20000000e+00,\n",
       "         4.21000000e+00,   4.22000000e+00,   4.23000000e+00,\n",
       "         4.24000000e+00,   4.25000000e+00,   4.26000000e+00,\n",
       "         4.27000000e+00,   4.28000000e+00,   4.29000000e+00,\n",
       "         4.30000000e+00,   4.31000000e+00,   4.32000000e+00,\n",
       "         4.33000000e+00,   4.34000000e+00,   4.35000000e+00,\n",
       "         4.36000000e+00,   4.37000000e+00,   4.38000000e+00,\n",
       "         4.39000000e+00,   4.40000000e+00,   4.41000000e+00,\n",
       "         4.42000000e+00,   4.43000000e+00,   4.44000000e+00,\n",
       "         4.45000000e+00,   4.46000000e+00,   4.47000000e+00,\n",
       "         4.48000000e+00,   4.49000000e+00,   4.50000000e+00,\n",
       "         4.51000000e+00,   4.52000000e+00,   4.53000000e+00,\n",
       "         4.54000000e+00,   4.55000000e+00,   4.56000000e+00,\n",
       "         4.57000000e+00,   4.58000000e+00,   4.59000000e+00,\n",
       "         4.60000000e+00,   4.61000000e+00,   4.62000000e+00,\n",
       "         4.63000000e+00,   4.64000000e+00,   4.65000000e+00,\n",
       "         4.66000000e+00,   4.67000000e+00,   4.68000000e+00,\n",
       "         4.69000000e+00,   4.70000000e+00,   4.71000000e+00,\n",
       "         4.72000000e+00,   4.73000000e+00,   4.74000000e+00,\n",
       "         4.75000000e+00,   4.76000000e+00,   4.77000000e+00,\n",
       "         4.78000000e+00,   4.79000000e+00,   4.80000000e+00,\n",
       "         4.81000000e+00,   4.82000000e+00,   4.83000000e+00,\n",
       "         4.84000000e+00,   4.85000000e+00,   4.86000000e+00,\n",
       "         4.87000000e+00,   4.88000000e+00,   4.89000000e+00,\n",
       "         4.90000000e+00,   4.91000000e+00,   4.92000000e+00,\n",
       "         4.93000000e+00,   4.94000000e+00,   4.95000000e+00,\n",
       "         4.96000000e+00,   4.97000000e+00,   4.98000000e+00,\n",
       "         4.99000000e+00])"
      ]
     },
     "execution_count": 105,
     "metadata": {},
     "output_type": "execute_result"
    }
   ],
   "source": [
    "points = np.arange(-5,5,0.01)\n",
    "points"
   ]
  },
  {
   "cell_type": "code",
   "execution_count": 103,
   "metadata": {},
   "outputs": [],
   "source": [
    "xs,ys = np.meshgrid(points,points)"
   ]
  },
  {
   "cell_type": "code",
   "execution_count": 104,
   "metadata": {},
   "outputs": [
    {
     "data": {
      "text/plain": [
       "array([[-5.  , -5.  , -5.  , ..., -5.  , -5.  , -5.  ],\n",
       "       [-4.99, -4.99, -4.99, ..., -4.99, -4.99, -4.99],\n",
       "       [-4.98, -4.98, -4.98, ..., -4.98, -4.98, -4.98],\n",
       "       ..., \n",
       "       [ 4.97,  4.97,  4.97, ...,  4.97,  4.97,  4.97],\n",
       "       [ 4.98,  4.98,  4.98, ...,  4.98,  4.98,  4.98],\n",
       "       [ 4.99,  4.99,  4.99, ...,  4.99,  4.99,  4.99]])"
      ]
     },
     "execution_count": 104,
     "metadata": {},
     "output_type": "execute_result"
    }
   ],
   "source": [
    "ys"
   ]
  },
  {
   "cell_type": "code",
   "execution_count": 106,
   "metadata": {},
   "outputs": [
    {
     "data": {
      "text/plain": [
       "array([[-5.  , -4.99, -4.98, ...,  4.97,  4.98,  4.99],\n",
       "       [-5.  , -4.99, -4.98, ...,  4.97,  4.98,  4.99],\n",
       "       [-5.  , -4.99, -4.98, ...,  4.97,  4.98,  4.99],\n",
       "       ..., \n",
       "       [-5.  , -4.99, -4.98, ...,  4.97,  4.98,  4.99],\n",
       "       [-5.  , -4.99, -4.98, ...,  4.97,  4.98,  4.99],\n",
       "       [-5.  , -4.99, -4.98, ...,  4.97,  4.98,  4.99]])"
      ]
     },
     "execution_count": 106,
     "metadata": {},
     "output_type": "execute_result"
    }
   ],
   "source": [
    "xs"
   ]
  },
  {
   "cell_type": "code",
   "execution_count": 107,
   "metadata": {},
   "outputs": [
    {
     "data": {
      "text/plain": [
       "array([[ 7.07106781,  7.06400028,  7.05693985, ...,  7.04988652,\n",
       "         7.05693985,  7.06400028],\n",
       "       [ 7.06400028,  7.05692568,  7.04985815, ...,  7.04279774,\n",
       "         7.04985815,  7.05692568],\n",
       "       [ 7.05693985,  7.04985815,  7.04278354, ...,  7.03571603,\n",
       "         7.04278354,  7.04985815],\n",
       "       ..., \n",
       "       [ 7.04988652,  7.04279774,  7.03571603, ...,  7.0286414 ,\n",
       "         7.03571603,  7.04279774],\n",
       "       [ 7.05693985,  7.04985815,  7.04278354, ...,  7.03571603,\n",
       "         7.04278354,  7.04985815],\n",
       "       [ 7.06400028,  7.05692568,  7.04985815, ...,  7.04279774,\n",
       "         7.04985815,  7.05692568]])"
      ]
     },
     "execution_count": 107,
     "metadata": {},
     "output_type": "execute_result"
    }
   ],
   "source": [
    "import matplotlib.pyplot as plt\n",
    "z = np.sqrt(xs**2+ys**2)\n",
    "z"
   ]
  },
  {
   "cell_type": "code",
   "execution_count": 108,
   "metadata": {},
   "outputs": [
    {
     "data": {
      "text/plain": [
       "<matplotlib.colorbar.Colorbar at 0x6e76390>"
      ]
     },
     "execution_count": 108,
     "metadata": {},
     "output_type": "execute_result"
    },
    {
     "data": {
      "image/png": "[encoded data removed]",
      "text/plain": [
       "<matplotlib.figure.Figure at 0x5d1f8d0>"
      ]
     },
     "metadata": {},
     "output_type": "display_data"
    }
   ],
   "source": [
    "plt.imshow(z,cmap=plt.cm.gray)\n",
    "plt.colorbar()"
   ]
  },
  {
   "cell_type": "code",
   "execution_count": 110,
   "metadata": {},
   "outputs": [
    {
     "data": {
      "text/plain": [
       "[1.1000000000000001, 2.2000000000000002, 1.3, 1.3999999999999999, 2.5]"
      ]
     },
     "execution_count": 110,
     "metadata": {},
     "output_type": "execute_result"
    }
   ],
   "source": [
    "xarr = np.array([1.1,1.2,1.3,1.4,1.5])\n",
    "yarr = np.array([2.1,2.2,2.3,2.4,2.5])\n",
    "cond = np.array([True,False,True,True,False])\n",
    "result = [(x if c else y) for x,y,c in zip(xarr,yarr,cond)]\n",
    "result"
   ]
  },
  {
   "cell_type": "code",
   "execution_count": 111,
   "metadata": {},
   "outputs": [],
   "source": [
    "result = np.where(cond,xarr,yarr)"
   ]
  },
  {
   "cell_type": "code",
   "execution_count": 112,
   "metadata": {},
   "outputs": [
    {
     "data": {
      "text/plain": [
       "array([ 1.1,  2.2,  1.3,  1.4,  2.5])"
      ]
     },
     "execution_count": 112,
     "metadata": {},
     "output_type": "execute_result"
    }
   ],
   "source": [
    "result"
   ]
  },
  {
   "cell_type": "code",
   "execution_count": 113,
   "metadata": {},
   "outputs": [
    {
     "data": {
      "text/plain": [
       "array([[ 2.49842209,  0.72347044, -1.726175  , -0.56162083],\n",
       "       [ 0.34130473, -1.28817553, -2.46262359,  0.40039921],\n",
       "       [-0.47667331,  0.1718707 ,  0.69636847,  0.80902961],\n",
       "       [ 1.17985296, -1.0646429 ,  0.11733032, -0.13312806]])"
      ]
     },
     "execution_count": 113,
     "metadata": {},
     "output_type": "execute_result"
    }
   ],
   "source": [
    "arr = randn(4,4)\n",
    "arr"
   ]
  },
  {
   "cell_type": "code",
   "execution_count": 114,
   "metadata": {},
   "outputs": [
    {
     "data": {
      "text/plain": [
       "array([[ 2,  2, -2, -2],\n",
       "       [ 2, -2, -2,  2],\n",
       "       [-2,  2,  2,  2],\n",
       "       [ 2, -2,  2, -2]])"
      ]
     },
     "execution_count": 114,
     "metadata": {},
     "output_type": "execute_result"
    }
   ],
   "source": [
    "np.where(arr>0,2,-2)"
   ]
  },
  {
   "cell_type": "code",
   "execution_count": 115,
   "metadata": {},
   "outputs": [
    {
     "data": {
      "text/plain": [
       "array([[ 2.        ,  2.        , -1.726175  , -0.56162083],\n",
       "       [ 2.        , -1.28817553, -2.46262359,  2.        ],\n",
       "       [-0.47667331,  2.        ,  2.        ,  2.        ],\n",
       "       [ 2.        , -1.0646429 ,  2.        , -0.13312806]])"
      ]
     },
     "execution_count": 115,
     "metadata": {},
     "output_type": "execute_result"
    }
   ],
   "source": [
    "np.where(arr >0,2,arr)#将正值设置为2"
   ]
  },
  {
   "cell_type": "code",
   "execution_count": 116,
   "metadata": {},
   "outputs": [
    {
     "ename": "NameError",
     "evalue": "name 'n' is not defined",
     "output_type": "error",
     "traceback": [
      "\u001b[1;31m---------------------------------------------------------------------------\u001b[0m",
      "\u001b[1;31mNameError\u001b[0m                                 Traceback (most recent call last)",
      "\u001b[1;32m<ipython-input-116-95f419555855>\u001b[0m in \u001b[0;36m<module>\u001b[1;34m()\u001b[0m\n\u001b[0;32m      1\u001b[0m \u001b[0mresult\u001b[0m \u001b[1;33m=\u001b[0m \u001b[1;33m[\u001b[0m\u001b[1;33m]\u001b[0m\u001b[1;33m\u001b[0m\u001b[0m\n\u001b[1;32m----> 2\u001b[1;33m \u001b[1;32mfor\u001b[0m \u001b[0mi\u001b[0m \u001b[1;32min\u001b[0m \u001b[0mrange\u001b[0m\u001b[1;33m(\u001b[0m\u001b[0mn\u001b[0m\u001b[1;33m)\u001b[0m\u001b[1;33m:\u001b[0m\u001b[1;33m\u001b[0m\u001b[0m\n\u001b[0m\u001b[0;32m      3\u001b[0m     \u001b[1;32mif\u001b[0m \u001b[0mcond1\u001b[0m\u001b[1;33m[\u001b[0m\u001b[0mi\u001b[0m\u001b[1;33m]\u001b[0m \u001b[1;32mand\u001b[0m \u001b[0mcond2\u001b[0m\u001b[1;33m[\u001b[0m\u001b[0mi\u001b[0m\u001b[1;33m]\u001b[0m\u001b[1;33m:\u001b[0m\u001b[1;33m\u001b[0m\u001b[0m\n\u001b[0;32m      4\u001b[0m         \u001b[0mresult\u001b[0m\u001b[1;33m.\u001b[0m\u001b[0mappend\u001b[0m\u001b[1;33m(\u001b[0m\u001b[1;36m0\u001b[0m\u001b[1;33m)\u001b[0m\u001b[1;33m\u001b[0m\u001b[0m\n\u001b[0;32m      5\u001b[0m     \u001b[1;32melif\u001b[0m \u001b[0mcond1\u001b[0m\u001b[1;33m[\u001b[0m\u001b[0mi\u001b[0m\u001b[1;33m]\u001b[0m\u001b[1;33m:\u001b[0m\u001b[1;33m\u001b[0m\u001b[0m\n",
      "\u001b[1;31mNameError\u001b[0m: name 'n' is not defined"
     ]
    }
   ],
   "source": [
    "result = []\n",
    "for i in range(n):\n",
    "    if cond1[i] and cond2[i]:\n",
    "        result.append(0)\n",
    "    elif cond1[i]:\n",
    "        result.append(1)\n",
    "    elif cond2[i]:\n",
    "        result.append(2)\n",
    "    else:\n",
    "        result.append(3)\n",
    "\n",
    "#等价\n",
    "np.where(cond1 & cond2,0,np.where(cond1,1,np.where(cond2,2,3)))\n",
    "\n",
    "result = 1*(cond1-cond2)+2*(cond2 & -cond1)+3*-(cond1 |cond2)\n",
    "\n"
   ]
  },
  {
   "cell_type": "code",
   "execution_count": 117,
   "metadata": {},
   "outputs": [
    {
     "data": {
      "text/plain": [
       "0.17235654755438007"
      ]
     },
     "execution_count": 117,
     "metadata": {},
     "output_type": "execute_result"
    }
   ],
   "source": [
    "arr = np.random.randn(5,4)#正态分布的数据\n",
    "arr.mean()"
   ]
  },
  {
   "cell_type": "code",
   "execution_count": 118,
   "metadata": {},
   "outputs": [
    {
     "data": {
      "text/plain": [
       "0.17235654755438007"
      ]
     },
     "execution_count": 118,
     "metadata": {},
     "output_type": "execute_result"
    }
   ],
   "source": [
    "np.mean(arr)"
   ]
  },
  {
   "cell_type": "code",
   "execution_count": 119,
   "metadata": {},
   "outputs": [
    {
     "data": {
      "text/plain": [
       "3.4471309510876011"
      ]
     },
     "execution_count": 119,
     "metadata": {},
     "output_type": "execute_result"
    }
   ],
   "source": [
    "arr.sum()"
   ]
  },
  {
   "cell_type": "code",
   "execution_count": 120,
   "metadata": {},
   "outputs": [
    {
     "data": {
      "text/plain": [
       "array([ 0.0502616 ,  0.11059981,  0.47140563, -0.01098923,  0.24050493])"
      ]
     },
     "execution_count": 120,
     "metadata": {},
     "output_type": "execute_result"
    }
   ],
   "source": [
    "arr.mean(axis=1)"
   ]
  },
  {
   "cell_type": "code",
   "execution_count": 121,
   "metadata": {},
   "outputs": [
    {
     "data": {
      "text/plain": [
       "array([[-0.35572893, -0.10765874,  0.79395546, -0.12952138],\n",
       "       [ 0.51500122, -0.10384235,  1.61174078, -1.58050042],\n",
       "       [ 1.34151841,  1.10291997,  0.68486875, -1.24368461],\n",
       "       [-0.19720402, -0.49418896,  0.99512509, -0.34768903],\n",
       "       [ 1.03963047,  0.81149915, -0.82799058, -0.06111932]])"
      ]
     },
     "execution_count": 121,
     "metadata": {},
     "output_type": "execute_result"
    }
   ],
   "source": [
    "arr"
   ]
  },
  {
   "cell_type": "code",
   "execution_count": 122,
   "metadata": {},
   "outputs": [
    {
     "data": {
      "text/plain": [
       "array([ 2.34321715,  1.20872906,  3.2576995 , -3.36251475])"
      ]
     },
     "execution_count": 122,
     "metadata": {},
     "output_type": "execute_result"
    }
   ],
   "source": [
    "arr.sum(0)"
   ]
  },
  {
   "cell_type": "code",
   "execution_count": 123,
   "metadata": {},
   "outputs": [],
   "source": [
    "arr = randn(100)"
   ]
  },
  {
   "cell_type": "code",
   "execution_count": 124,
   "metadata": {},
   "outputs": [
    {
     "data": {
      "text/plain": [
       "51"
      ]
     },
     "execution_count": 124,
     "metadata": {},
     "output_type": "execute_result"
    }
   ],
   "source": [
    "(arr > 0).sum()"
   ]
  },
  {
   "cell_type": "code",
   "execution_count": 125,
   "metadata": {},
   "outputs": [
    {
     "data": {
      "text/plain": [
       "True"
      ]
     },
     "execution_count": 125,
     "metadata": {},
     "output_type": "execute_result"
    }
   ],
   "source": [
    "#any用于测试数组中是否存在一个或多个True，而all则检查数组中所有值是否都是True\n",
    "bools = np.array([False,False,True,False])\n",
    "bools.any()"
   ]
  },
  {
   "cell_type": "code",
   "execution_count": 126,
   "metadata": {},
   "outputs": [
    {
     "data": {
      "text/plain": [
       "False"
      ]
     },
     "execution_count": 126,
     "metadata": {},
     "output_type": "execute_result"
    }
   ],
   "source": [
    "bools.all()"
   ]
  },
  {
   "cell_type": "code",
   "execution_count": 127,
   "metadata": {},
   "outputs": [
    {
     "data": {
      "text/plain": [
       "array([ 1.40294488,  1.4557692 ,  2.53269997, -0.92572571,  0.01614045,\n",
       "       -2.66944546, -0.47397028, -0.96000881])"
      ]
     },
     "execution_count": 127,
     "metadata": {},
     "output_type": "execute_result"
    }
   ],
   "source": [
    "arr = randn(8)\n",
    "arr"
   ]
  },
  {
   "cell_type": "code",
   "execution_count": 133,
   "metadata": {},
   "outputs": [],
   "source": [
    "arr.sort()"
   ]
  },
  {
   "cell_type": "code",
   "execution_count": 134,
   "metadata": {},
   "outputs": [
    {
     "data": {
      "text/plain": [
       "array([-2.66944546, -0.96000881, -0.92572571, -0.47397028,  0.01614045,\n",
       "        1.40294488,  1.4557692 ,  2.53269997])"
      ]
     },
     "execution_count": 134,
     "metadata": {},
     "output_type": "execute_result"
    }
   ],
   "source": [
    "arr"
   ]
  },
  {
   "cell_type": "code",
   "execution_count": 137,
   "metadata": {},
   "outputs": [
    {
     "data": {
      "text/plain": [
       "array([-3.363599  , -2.93612475, -2.86404625, -2.81540134, -2.70938427,\n",
       "       -2.56953189, -2.45804601, -2.44977385, -2.37741295, -2.36361435,\n",
       "       -2.28832858, -2.22886148, -2.21221743, -2.21173576, -2.20910496,\n",
       "       -2.1885493 , -2.16021174, -2.09604846, -2.05335253, -2.05290388,\n",
       "       -2.03567243, -2.03166471, -1.99830248, -1.99754137, -1.98158885,\n",
       "       -1.9714039 , -1.93615676, -1.91036036, -1.87679594, -1.87510125,\n",
       "       -1.87473327, -1.83833885, -1.81690065, -1.80927073, -1.8092128 ,\n",
       "       -1.74979895, -1.74022616, -1.72417087, -1.71927679, -1.7137901 ,\n",
       "       -1.71182963, -1.71182206, -1.69885611, -1.69406059, -1.66266663,\n",
       "       -1.65024377, -1.64809794, -1.64612259, -1.64578977, -1.64541963,\n",
       "       -1.63912479, -1.62952113, -1.62905728, -1.62317344, -1.59949579,\n",
       "       -1.58827025, -1.58773267, -1.58103793, -1.57412412, -1.57237724,\n",
       "       -1.57018584, -1.56753507, -1.5366619 , -1.53218572, -1.53047187,\n",
       "       -1.52011329, -1.51640096, -1.5151142 , -1.51262502, -1.50594244,\n",
       "       -1.50572473, -1.4964579 , -1.49519592, -1.49153335, -1.49065366,\n",
       "       -1.48672521, -1.46841445, -1.46410655, -1.4505633 , -1.44987875,\n",
       "       -1.44689814, -1.43378218, -1.43039619, -1.42566937, -1.41808475,\n",
       "       -1.41141119, -1.40585278, -1.39735726, -1.39483267, -1.38757014,\n",
       "       -1.38615375, -1.37370485, -1.36833491, -1.36163492, -1.35499062,\n",
       "       -1.3412648 , -1.33997535, -1.33222903, -1.32891171, -1.32088199,\n",
       "       -1.31817534, -1.31014097, -1.30775606, -1.30423957, -1.3017716 ,\n",
       "       -1.30068   , -1.29405932, -1.29230591, -1.29190493, -1.28190226,\n",
       "       -1.26882639, -1.26161144, -1.25809206, -1.24302648, -1.23732652,\n",
       "       -1.2320197 , -1.21093476, -1.21033529, -1.19746578, -1.18967837,\n",
       "       -1.18766489, -1.1811689 , -1.18092667, -1.17682749, -1.17643541,\n",
       "       -1.17369495, -1.16288779, -1.15769478, -1.14578157, -1.14559484,\n",
       "       -1.14301669, -1.14002015, -1.13863052, -1.13792511, -1.13635401,\n",
       "       -1.12775107, -1.11833921, -1.11819459, -1.11385527, -1.11343692,\n",
       "       -1.10843929, -1.1078293 , -1.10235435, -1.10044333, -1.09085063,\n",
       "       -1.08954126, -1.08774597, -1.08641478, -1.08525151, -1.0701583 ,\n",
       "       -1.06573083, -1.05069763, -1.05066408, -1.04407623, -1.04298581,\n",
       "       -1.03994454, -1.03532704, -1.0338632 , -1.03152611, -1.0267649 ,\n",
       "       -1.02621095, -1.01696122, -1.00539394, -1.00354745, -1.00124716,\n",
       "       -0.99713294, -0.99038489, -0.98602711, -0.98285397, -0.979318  ,\n",
       "       -0.97843211, -0.97654028, -0.96077004, -0.95004232, -0.9497897 ,\n",
       "       -0.94770374, -0.94624708, -0.94300014, -0.94096102, -0.94077326,\n",
       "       -0.93513561, -0.93309451, -0.93154282, -0.92926818, -0.92747462,\n",
       "       -0.92707037, -0.91888508, -0.9158584 , -0.91052798, -0.90810247,\n",
       "       -0.90775814, -0.90231984, -0.89841283, -0.89714169, -0.88983468,\n",
       "       -0.88878881, -0.88461568, -0.88173885, -0.87532867, -0.86880628,\n",
       "       -0.86843747, -0.85893881, -0.85831209, -0.85084234, -0.84937149,\n",
       "       -0.84876889, -0.84766789, -0.84451263, -0.82065403, -0.81868536,\n",
       "       -0.80992897, -0.80524386, -0.80515296, -0.80420806, -0.80175892,\n",
       "       -0.79983555, -0.78803174, -0.78140673, -0.77973354, -0.77868444,\n",
       "       -0.77703825, -0.76735439, -0.75952684, -0.75912371, -0.7544733 ,\n",
       "       -0.75436129, -0.75364675, -0.74887022, -0.74384951, -0.74327094,\n",
       "       -0.73797512, -0.72894966, -0.72856029, -0.72349695, -0.71590364,\n",
       "       -0.71391608, -0.7079708 , -0.70290999, -0.69435352, -0.69381921,\n",
       "       -0.68670115, -0.68584458, -0.68524473, -0.68315923, -0.68116019,\n",
       "       -0.67814469, -0.67641298, -0.6718888 , -0.66736387, -0.66733404,\n",
       "       -0.66432555, -0.66386342, -0.66385616, -0.65967149, -0.64930821,\n",
       "       -0.6486234 , -0.64491472, -0.64354083, -0.63746161, -0.63175924,\n",
       "       -0.62650931, -0.62550454, -0.62250188, -0.61889475, -0.60710218,\n",
       "       -0.6070889 , -0.60578195, -0.60316926, -0.60038824, -0.59427301,\n",
       "       -0.58750294, -0.58684432, -0.58489468, -0.5841248 , -0.57814028,\n",
       "       -0.5761803 , -0.57565824, -0.57395361, -0.57339455, -0.56329466,\n",
       "       -0.5617284 , -0.55404535, -0.55337873, -0.55267049, -0.55094143,\n",
       "       -0.55062118, -0.54443326, -0.54146219, -0.53842762, -0.53439172,\n",
       "       -0.53367116, -0.53289478, -0.53048124, -0.52927747, -0.52162604,\n",
       "       -0.51374749, -0.5087484 , -0.50840227, -0.50348783, -0.49657697,\n",
       "       -0.49490974, -0.49419835, -0.49165214, -0.48907143, -0.48718873,\n",
       "       -0.48420686, -0.4835021 , -0.47997398, -0.47081212, -0.46531558,\n",
       "       -0.46529038, -0.46113427, -0.45777998, -0.45280604, -0.45166116,\n",
       "       -0.44972683, -0.44901577, -0.44693526, -0.44486057, -0.44475302,\n",
       "       -0.44398527, -0.43827184, -0.43744994, -0.43411586, -0.43035062,\n",
       "       -0.43022645, -0.42553447, -0.42138621, -0.41970887, -0.41329842,\n",
       "       -0.41309827, -0.40557568, -0.40415567, -0.40162913, -0.40068135,\n",
       "       -0.39880392, -0.39647817, -0.39535313, -0.39418599, -0.39032557,\n",
       "       -0.3894677 , -0.38909727, -0.38357284, -0.38305883, -0.38240421,\n",
       "       -0.37623144, -0.37526171, -0.37339257, -0.37165125, -0.37163148,\n",
       "       -0.37054679, -0.36979454, -0.36925768, -0.36917419, -0.36657831,\n",
       "       -0.36037877, -0.35600508, -0.35577255, -0.34845002, -0.34645545,\n",
       "       -0.34498167, -0.34040507, -0.3375637 , -0.33725148, -0.33690932,\n",
       "       -0.33608376, -0.33098129, -0.32865184, -0.3273582 , -0.32669822,\n",
       "       -0.32489489, -0.32476336, -0.32242372, -0.32199233, -0.31290424,\n",
       "       -0.31138892, -0.31090421, -0.30931091, -0.30580888, -0.3008637 ,\n",
       "       -0.30004724, -0.29870194, -0.29647094, -0.29242197, -0.29142828,\n",
       "       -0.29133694, -0.28905346, -0.28896934, -0.28858129, -0.28476792,\n",
       "       -0.28263008, -0.28039605, -0.27874081, -0.27405484, -0.27300686,\n",
       "       -0.2720085 , -0.26723311, -0.26505105, -0.26450443, -0.26234352,\n",
       "       -0.26183354, -0.26065881, -0.26013412, -0.25872964, -0.25788921,\n",
       "       -0.25707532, -0.24722296, -0.24323895, -0.24294371, -0.24263148,\n",
       "       -0.24262205, -0.23932202, -0.23911853, -0.23601688, -0.23563179,\n",
       "       -0.23108663, -0.23000192, -0.22733643, -0.22722462, -0.22038809,\n",
       "       -0.220215  , -0.21761979, -0.21420259, -0.20304119, -0.19668279,\n",
       "       -0.19625713, -0.19366291, -0.19191144, -0.17901586, -0.17871217,\n",
       "       -0.17620735, -0.16836473, -0.15983989, -0.15428638, -0.15132312,\n",
       "       -0.15038759, -0.14735724, -0.14043977, -0.14034158, -0.13622344,\n",
       "       -0.13080631, -0.12619309, -0.12228427, -0.12125916, -0.11940787,\n",
       "       -0.11797813, -0.11741017, -0.11069676, -0.10546677, -0.09788578,\n",
       "       -0.09629098, -0.09495357, -0.09316937, -0.09276717, -0.09269588,\n",
       "       -0.08947816, -0.08700674, -0.08554826, -0.08174738, -0.0770249 ,\n",
       "       -0.0739221 , -0.0730224 , -0.07281686, -0.07223852, -0.06580642,\n",
       "       -0.06524802, -0.06174174, -0.06114634, -0.060788  , -0.05870988,\n",
       "       -0.05826731, -0.045069  , -0.0411773 , -0.03869985, -0.03438413,\n",
       "       -0.03384669, -0.02959741, -0.0255071 , -0.02516172, -0.02104857,\n",
       "       -0.01907947, -0.01842626, -0.01367186, -0.01268225, -0.01110669,\n",
       "       -0.01056465, -0.00841472, -0.00784703, -0.0052702 ,  0.00503495,\n",
       "        0.00713572,  0.01093889,  0.01141373,  0.01399595,  0.01410437,\n",
       "        0.01903743,  0.02065128,  0.02218023,  0.02342498,  0.02455494,\n",
       "        0.02510181,  0.02799692,  0.02857924,  0.02913243,  0.0342159 ,\n",
       "        0.03551323,  0.037064  ,  0.05069848,  0.05222073,  0.05569406,\n",
       "        0.06558712,  0.06734021,  0.06821493,  0.06904158,  0.06939689,\n",
       "        0.06969919,  0.07376169,  0.07828773,  0.0799674 ,  0.08222291,\n",
       "        0.08854028,  0.08910228,  0.09220426,  0.09270716,  0.09394028,\n",
       "        0.09828402,  0.10546203,  0.11188021,  0.1122483 ,  0.11475817,\n",
       "        0.11564187,  0.11987523,  0.12044558,  0.12477855,  0.12492076,\n",
       "        0.12564573,  0.12970206,  0.13346982,  0.134425  ,  0.13503959,\n",
       "        0.13578393,  0.142352  ,  0.14466021,  0.1478237 ,  0.1517819 ,\n",
       "        0.15658684,  0.16074945,  0.16343338,  0.163437  ,  0.1644117 ,\n",
       "        0.16721534,  0.17075782,  0.17393006,  0.17598702,  0.17915755,\n",
       "        0.18294197,  0.18703169,  0.19081165,  0.19280887,  0.19417382,\n",
       "        0.19430202,  0.19591454,  0.19634073,  0.19823422,  0.20550779,\n",
       "        0.20618863,  0.20655579,  0.20763476,  0.21109802,  0.21173988,\n",
       "        0.21240698,  0.21299759,  0.21480785,  0.21720278,  0.21766604,\n",
       "        0.22180353,  0.22482328,  0.22806563,  0.23208653,  0.23497026,\n",
       "        0.2353028 ,  0.24313993,  0.24440136,  0.24502724,  0.24672269,\n",
       "        0.2469415 ,  0.24800091,  0.24904102,  0.25063483,  0.25243291,\n",
       "        0.25893012,  0.26069239,  0.26176514,  0.26483294,  0.26515294,\n",
       "        0.26577338,  0.27046629,  0.27109713,  0.27430807,  0.27554679,\n",
       "        0.27629645,  0.27855055,  0.27995277,  0.28049422,  0.29215496,\n",
       "        0.29285952,  0.29575181,  0.29850779,  0.29903911,  0.30092921,\n",
       "        0.30241957,  0.3049433 ,  0.30613516,  0.31097933,  0.31171014,\n",
       "        0.31239655,  0.31465789,  0.31485299,  0.31720061,  0.32740178,\n",
       "        0.32775345,  0.33336557,  0.33444545,  0.33493255,  0.33837463,\n",
       "        0.33974264,  0.34132364,  0.34620711,  0.34781655,  0.35473772,\n",
       "        0.35860497,  0.35893358,  0.3594965 ,  0.36244724,  0.36644696,\n",
       "        0.36731893,  0.36852703,  0.37378315,  0.37664726,  0.38315044,\n",
       "        0.38322284,  0.39278338,  0.40084903,  0.40090994,  0.40200392,\n",
       "        0.40797739,  0.4140961 ,  0.41506919,  0.41718712,  0.41896575,\n",
       "        0.41904248,  0.42473127,  0.42684634,  0.42994524,  0.43127913,\n",
       "        0.43165813,  0.43200994,  0.43464718,  0.4369986 ,  0.43819545,\n",
       "        0.43904653,  0.43967985,  0.44020118,  0.44055214,  0.44961244,\n",
       "        0.45071922,  0.45285313,  0.45514906,  0.45875847,  0.46212989,\n",
       "        0.4649993 ,  0.46719945,  0.46830897,  0.47272389,  0.47416857,\n",
       "        0.47642493,  0.47927828,  0.47952001,  0.48121404,  0.48123612,\n",
       "        0.48224338,  0.49001087,  0.49034215,  0.49292668,  0.49299819,\n",
       "        0.49348083,  0.49809397,  0.50447048,  0.50546615,  0.51031695,\n",
       "        0.51087182,  0.51138424,  0.51188743,  0.51304684,  0.51830661,\n",
       "        0.52208649,  0.5224853 ,  0.5232396 ,  0.52500629,  0.53165092,\n",
       "        0.53606396,  0.53674235,  0.54038735,  0.54218362,  0.54879976,\n",
       "        0.55146127,  0.55460865,  0.55633745,  0.55731549,  0.56021351,\n",
       "        0.5623552 ,  0.56515929,  0.57124539,  0.57251137,  0.57411827,\n",
       "        0.57851173,  0.57920446,  0.58462085,  0.58528994,  0.58534456,\n",
       "        0.59606835,  0.59740838,  0.59840745,  0.59856591,  0.60637067,\n",
       "        0.60826487,  0.60907301,  0.61099796,  0.62174827,  0.62956378,\n",
       "        0.63092284,  0.63800928,  0.639548  ,  0.64521309,  0.64935869,\n",
       "        0.64973058,  0.65057277,  0.65266104,  0.65406233,  0.6547406 ,\n",
       "        0.6550174 ,  0.6579609 ,  0.65921474,  0.65925011,  0.66182393,\n",
       "        0.66207944,  0.66357799,  0.66401658,  0.66881682,  0.67412875,\n",
       "        0.67538619,  0.67701184,  0.67796847,  0.67897461,  0.68661948,\n",
       "        0.71045694,  0.71531673,  0.71810201,  0.72349838,  0.73110584,\n",
       "        0.73257495,  0.7338306 ,  0.73887537,  0.7405867 ,  0.74272117,\n",
       "        0.74344264,  0.74902142,  0.75048984,  0.75293057,  0.75516769,\n",
       "        0.75848478,  0.77111301,  0.77559598,  0.77851065,  0.77924246,\n",
       "        0.78155204,  0.7822876 ,  0.78731895,  0.78801496,  0.79679245,\n",
       "        0.79745467,  0.7977364 ,  0.80063561,  0.80464627,  0.80505792,\n",
       "        0.80523071,  0.80794511,  0.80911405,  0.81716395,  0.81841332,\n",
       "        0.82180391,  0.82222618,  0.82330066,  0.82363466,  0.82923088,\n",
       "        0.8332363 ,  0.83355832,  0.83524142,  0.83623485,  0.83751863,\n",
       "        0.83981195,  0.84041933,  0.84218129,  0.84711674,  0.84935584,\n",
       "        0.85806104,  0.85858048,  0.86052845,  0.86964424,  0.87887043,\n",
       "        0.88842944,  0.89016758,  0.89356182,  0.89432752,  0.89786723,\n",
       "        0.90164808,  0.90561483,  0.90620926,  0.90680801,  0.91648   ,\n",
       "        0.92681922,  0.93100114,  0.93216975,  0.93382242,  0.93480937,\n",
       "        0.93939725,  0.94464482,  0.94566317,  0.94585227,  0.9476784 ,\n",
       "        0.95068123,  0.9519071 ,  0.95389675,  0.95834537,  0.95895702,\n",
       "        0.96002195,  0.96300534,  0.96651822,  0.96821606,  0.9689717 ,\n",
       "        0.97047258,  0.9715561 ,  0.97628805,  0.98078542,  0.98279251,\n",
       "        0.98466194,  0.98468045,  0.98666564,  0.98781599,  0.9918462 ,\n",
       "        0.9938258 ,  0.99603674,  0.99616893,  1.00589072,  1.01114196,\n",
       "        1.01319435,  1.02013863,  1.02433293,  1.02604525,  1.03533156,\n",
       "        1.0426149 ,  1.04553855,  1.05482905,  1.05719119,  1.06343685,\n",
       "        1.06605759,  1.07102887,  1.07180047,  1.07691082,  1.08003946,\n",
       "        1.08503101,  1.09356881,  1.09605047,  1.09876445,  1.10102316,\n",
       "        1.10428504,  1.11266722,  1.12030259,  1.12315153,  1.12443743,\n",
       "        1.12906077,  1.1319893 ,  1.13980342,  1.13983589,  1.13984316,\n",
       "        1.14948247,  1.17705918,  1.18279212,  1.19667192,  1.20199603,\n",
       "        1.20202938,  1.21819274,  1.22220682,  1.22495274,  1.23201829,\n",
       "        1.24278225,  1.24337236,  1.24906091,  1.25183686,  1.25973008,\n",
       "        1.26788738,  1.27100784,  1.27665457,  1.28377603,  1.2891637 ,\n",
       "        1.29116406,  1.29457115,  1.29697827,  1.2984007 ,  1.29932145,\n",
       "        1.30264938,  1.3053645 ,  1.32073394,  1.32873874,  1.32875967,\n",
       "        1.33158618,  1.33924603,  1.339688  ,  1.34171664,  1.34771312,\n",
       "        1.35640704,  1.35931037,  1.37180586,  1.37374584,  1.38574525,\n",
       "        1.39225942,  1.39383698,  1.39767695,  1.43296538,  1.44261891,\n",
       "        1.45274676,  1.45796365,  1.477094  ,  1.47740594,  1.50216205,\n",
       "        1.51653391,  1.53299878,  1.54844871,  1.55755371,  1.56280655,\n",
       "        1.5667019 ,  1.57719555,  1.58619175,  1.59432798,  1.59659857,\n",
       "        1.601474  ,  1.60261891,  1.60414402,  1.6067888 ,  1.60705065,\n",
       "        1.60825842,  1.61081146,  1.62573968,  1.62710659,  1.65886266,\n",
       "        1.66378128,  1.68297379,  1.70145367,  1.70937608,  1.71395981,\n",
       "        1.71758105,  1.71796031,  1.72363413,  1.73940364,  1.73986682,\n",
       "        1.74566096,  1.74998816,  1.75881297,  1.79998405,  1.80800983,\n",
       "        1.82418785,  1.8467489 ,  1.8534514 ,  1.85527693,  1.86514196,\n",
       "        1.87259297,  1.87501575,  1.87702606,  1.94957126,  1.96702491,\n",
       "        1.9801027 ,  1.98538965,  1.98889527,  2.01734387,  2.01890826,\n",
       "        2.06189218,  2.12776882,  2.21471706,  2.24579716,  2.2664251 ,\n",
       "        2.31606461,  2.37968222,  2.43459398,  2.43632947,  2.44007184,\n",
       "        2.48847274,  2.57554383,  2.60435747,  2.64932497,  2.98857154])"
      ]
     },
     "execution_count": 137,
     "metadata": {},
     "output_type": "execute_result"
    }
   ],
   "source": [
    "large_arr = randn(1000)\n",
    "large_arr.sort()\n",
    "large_arr"
   ]
  },
  {
   "cell_type": "code",
   "execution_count": 138,
   "metadata": {},
   "outputs": [
    {
     "data": {
      "text/plain": [
       "-1.6391247922402596"
      ]
     },
     "execution_count": 138,
     "metadata": {},
     "output_type": "execute_result"
    }
   ],
   "source": [
    "large_arr[int(0.05*len(large_arr))]#5%分位数"
   ]
  },
  {
   "cell_type": "code",
   "execution_count": 139,
   "metadata": {},
   "outputs": [
    {
     "data": {
      "text/plain": [
       "1000"
      ]
     },
     "execution_count": 139,
     "metadata": {},
     "output_type": "execute_result"
    }
   ],
   "source": [
    "len(large_arr)"
   ]
  },
  {
   "cell_type": "code",
   "execution_count": 140,
   "metadata": {},
   "outputs": [
    {
     "data": {
      "text/plain": [
       "array(['Bob', 'JoE', 'Joe', 'Will'],\n",
       "      dtype='<U4')"
      ]
     },
     "execution_count": 140,
     "metadata": {},
     "output_type": "execute_result"
    }
   ],
   "source": [
    "names = np.array(['Bob','Joe','Will','Bob','Will','Joe','JoE'])\n",
    "np.unique(names)"
   ]
  },
  {
   "cell_type": "code",
   "execution_count": 141,
   "metadata": {},
   "outputs": [
    {
     "data": {
      "text/plain": [
       "['Bob', 'JoE', 'Joe', 'Will']"
      ]
     },
     "execution_count": 141,
     "metadata": {},
     "output_type": "execute_result"
    }
   ],
   "source": [
    "sorted(set(names))"
   ]
  },
  {
   "cell_type": "code",
   "execution_count": 142,
   "metadata": {},
   "outputs": [
    {
     "data": {
      "text/plain": [
       "array([ True, False, False,  True,  True, False,  True], dtype=bool)"
      ]
     },
     "execution_count": 142,
     "metadata": {},
     "output_type": "execute_result"
    }
   ],
   "source": [
    "values = np.array([6,0,0,3,2,5,6])\n",
    "np.in1d(values,[2,3,6])#np.in1d用于测试一个数组中的值在另一个数组中的成员资格，返回一个布尔型数组"
   ]
  },
  {
   "cell_type": "code",
   "execution_count": 148,
   "metadata": {},
   "outputs": [
    {
     "data": {
      "text/plain": [
       "array([0, 5])"
      ]
     },
     "execution_count": 148,
     "metadata": {},
     "output_type": "execute_result"
    }
   ],
   "source": [
    "np.setdiff1d(values,[1,2,3,6])"
   ]
  },
  {
   "cell_type": "code",
   "execution_count": 149,
   "metadata": {},
   "outputs": [
    {
     "data": {
      "text/plain": [
       "array([0, 1, 5])"
      ]
     },
     "execution_count": 149,
     "metadata": {},
     "output_type": "execute_result"
    }
   ],
   "source": [
    "np.setxor1d(values,[1,2,3,6])"
   ]
  },
  {
   "cell_type": "code",
   "execution_count": 150,
   "metadata": {},
   "outputs": [
    {
     "data": {
      "text/plain": [
       "array([0, 1, 2, 3, 4, 5, 6, 7, 8, 9])"
      ]
     },
     "execution_count": 150,
     "metadata": {},
     "output_type": "execute_result"
    }
   ],
   "source": [
    "arr = np.arange(10)\n",
    "np.save('some_array',arr)#np.save和np.load是读写磁盘数组数据的两个主要函数\n",
    "np.load('some_array.npy')"
   ]
  },
  {
   "cell_type": "code",
   "execution_count": 151,
   "metadata": {},
   "outputs": [
    {
     "data": {
      "text/plain": [
       "array([1, 2, 3])"
      ]
     },
     "execution_count": 151,
     "metadata": {},
     "output_type": "execute_result"
    }
   ],
   "source": [
    "np.savez('array_archive.npz',a=arr,b=[1,2,3])\n",
    "arch = np.load('array_archive.npz')\n",
    "arch['b']"
   ]
  },
  {
   "cell_type": "code",
   "execution_count": 152,
   "metadata": {},
   "outputs": [
    {
     "name": "stderr",
     "output_type": "stream",
     "text": [
      "'cat' 不是内部或外部命令，也不是可运行的程序\n",
      "或批处理文件。\n"
     ]
    }
   ],
   "source": [
    "!cat ch04/array_ex.txt"
   ]
  },
  {
   "cell_type": "code",
   "execution_count": 153,
   "metadata": {},
   "outputs": [
    {
     "data": {
      "text/plain": [
       "array([[ 0.580052,  0.18673 ,  1.040717,  1.134411],\n",
       "       [ 0.194163, -0.636917, -0.938659,  0.124094],\n",
       "       [-0.12641 ,  0.268607, -0.695724,  0.047428],\n",
       "       [-1.484413,  0.004176, -0.744203,  0.005487],\n",
       "       [ 2.302869,  0.200131,  1.670238, -1.88109 ],\n",
       "       [-0.19323 ,  1.047233,  0.482803,  0.960334]])"
      ]
     },
     "execution_count": 153,
     "metadata": {},
     "output_type": "execute_result"
    }
   ],
   "source": [
    "#pd.read_csv,pd.read_table,np.loadtxt,np.savetxt,np.genfromtxt跟loadtxt差不多，\n",
    "#只不过它面向的是结构化数组和缺失数据处理\n",
    "arr = np.loadtxt('ch04/array_ex.txt',delimiter=',')\n",
    "arr"
   ]
  },
  {
   "cell_type": "code",
   "execution_count": 154,
   "metadata": {},
   "outputs": [
    {
     "data": {
      "text/plain": [
       "array([[ 1.,  2.,  3.],\n",
       "       [ 4.,  5.,  6.]])"
      ]
     },
     "execution_count": 154,
     "metadata": {},
     "output_type": "execute_result"
    }
   ],
   "source": [
    "x = np.array([[1.,2.,3.],[4.,5.,6.]])\n",
    "y = np.array([[6.,23.],[-1,7],[8,9]])\n",
    "x"
   ]
  },
  {
   "cell_type": "code",
   "execution_count": 155,
   "metadata": {},
   "outputs": [
    {
     "data": {
      "text/plain": [
       "array([[  6.,  23.],\n",
       "       [ -1.,   7.],\n",
       "       [  8.,   9.]])"
      ]
     },
     "execution_count": 155,
     "metadata": {},
     "output_type": "execute_result"
    }
   ],
   "source": [
    "y"
   ]
  },
  {
   "cell_type": "code",
   "execution_count": 156,
   "metadata": {},
   "outputs": [
    {
     "data": {
      "text/plain": [
       "array([[  28.,   64.],\n",
       "       [  67.,  181.]])"
      ]
     },
     "execution_count": 156,
     "metadata": {},
     "output_type": "execute_result"
    }
   ],
   "source": [
    "x.dot(y)# 相当于np.dot(x,y)"
   ]
  },
  {
   "cell_type": "code",
   "execution_count": 157,
   "metadata": {},
   "outputs": [
    {
     "data": {
      "text/plain": [
       "array([  6.,  15.])"
      ]
     },
     "execution_count": 157,
     "metadata": {},
     "output_type": "execute_result"
    }
   ],
   "source": [
    "np.dot(x,np.ones(3))"
   ]
  },
  {
   "cell_type": "code",
   "execution_count": 158,
   "metadata": {},
   "outputs": [
    {
     "data": {
      "text/plain": [
       "array([[-0.20467972, -0.1003291 ,  0.32811759,  0.16425275],\n",
       "       [ 2.7973913 , -0.52025082,  0.34957272, -0.13752429],\n",
       "       [-0.62257919, -0.81893311, -0.70725246,  0.14088471],\n",
       "       [ 0.37307404, -0.46192185,  1.41281899, -0.06097864]])"
      ]
     },
     "execution_count": 158,
     "metadata": {},
     "output_type": "execute_result"
    }
   ],
   "source": [
    "samples = np.random.normal(size=(4,4))\n",
    "samples"
   ]
  },
  {
   "cell_type": "code",
   "execution_count": 163,
   "metadata": {},
   "outputs": [
    {
     "name": "stdout",
     "output_type": "stream",
     "text": [
      "791 ms ± 13.1 ms per loop (mean ± std. dev. of 7 runs, 1 loop each)\n"
     ]
    }
   ],
   "source": [
    "from random import normalvariate\n",
    "N = 1000000\n",
    "%timeit samples = [normalvariate(0,1) for _ in range(N)]\n"
   ]
  },
  {
   "cell_type": "code",
   "execution_count": 165,
   "metadata": {},
   "outputs": [
    {
     "name": "stdout",
     "output_type": "stream",
     "text": [
      "33.2 ms ± 716 µs per loop (mean ± std. dev. of 7 runs, 10 loops each)\n"
     ]
    }
   ],
   "source": [
    "%timeit np.random.normal(size=N)"
   ]
  },
  {
   "cell_type": "code",
   "execution_count": 166,
   "metadata": {},
   "outputs": [],
   "source": [
    "#随机漫步\n",
    "import random\n",
    "position = 0\n",
    "walk = [position]\n",
    "steps = 1000\n",
    "for i in range(steps):\n",
    "    step = 1 if random.randint(0,1) else -1\n",
    "    position += step\n",
    "    walk.append(position)"
   ]
  },
  {
   "cell_type": "code",
   "execution_count": 171,
   "metadata": {},
   "outputs": [
    {
     "data": {
      "text/plain": [
       "-67"
      ]
     },
     "execution_count": 171,
     "metadata": {},
     "output_type": "execute_result"
    }
   ],
   "source": [
    "nsteps = 1000\n",
    "draws = np.random.randint(0,2,size=nsteps)\n",
    "steps = np.where(draws>0,1,-1)\n",
    "walk = steps.cumsum()\n",
    "walk.min()"
   ]
  },
  {
   "cell_type": "code",
   "execution_count": 172,
   "metadata": {},
   "outputs": [
    {
     "data": {
      "text/plain": [
       "16"
      ]
     },
     "execution_count": 172,
     "metadata": {},
     "output_type": "execute_result"
    }
   ],
   "source": [
    "walk.max()"
   ]
  },
  {
   "cell_type": "code",
   "execution_count": 176,
   "metadata": {},
   "outputs": [
    {
     "data": {
      "text/plain": [
       "151"
      ]
     },
     "execution_count": 176,
     "metadata": {},
     "output_type": "execute_result"
    }
   ],
   "source": [
    "(np.abs(walk) >= 10).argmax()"
   ]
  },
  {
   "cell_type": "code",
   "execution_count": 177,
   "metadata": {},
   "outputs": [
    {
     "ename": "NameError",
     "evalue": "name 'Series' is not defined",
     "output_type": "error",
     "traceback": [
      "\u001b[1;31m---------------------------------------------------------------------------\u001b[0m",
      "\u001b[1;31mNameError\u001b[0m                                 Traceback (most recent call last)",
      "\u001b[1;32m<ipython-input-177-df1aebae87f7>\u001b[0m in \u001b[0;36m<module>\u001b[1;34m()\u001b[0m\n\u001b[1;32m----> 1\u001b[1;33m \u001b[0mobj\u001b[0m \u001b[1;33m=\u001b[0m \u001b[0mSeries\u001b[0m\u001b[1;33m(\u001b[0m\u001b[1;33m[\u001b[0m\u001b[1;36m4\u001b[0m\u001b[1;33m,\u001b[0m\u001b[1;36m7\u001b[0m\u001b[1;33m,\u001b[0m\u001b[1;33m-\u001b[0m\u001b[1;36m5\u001b[0m\u001b[1;33m,\u001b[0m\u001b[1;36m3\u001b[0m\u001b[1;33m]\u001b[0m\u001b[1;33m)\u001b[0m\u001b[1;33m\u001b[0m\u001b[0m\n\u001b[0m\u001b[0;32m      2\u001b[0m \u001b[0mobj\u001b[0m\u001b[1;33m\u001b[0m\u001b[0m\n",
      "\u001b[1;31mNameError\u001b[0m: name 'Series' is not defined"
     ]
    }
   ],
   "source": []
  },
  {
   "cell_type": "code",
   "execution_count": null,
   "metadata": {},
   "outputs": [],
   "source": []
  }
 ],
 "metadata": {
  "kernelspec": {
   "display_name": "Python 3",
   "language": "python",
   "name": "python3"
  },
  "language_info": {
   "codemirror_mode": {
    "name": "ipython",
    "version": 3
   },
   "file_extension": ".py",
   "mimetype": "text/x-python",
   "name": "python",
   "nbconvert_exporter": "python",
   "pygments_lexer": "ipython3",
   "version": "3.6.4"
  }
 },
 "nbformat": 4,
 "nbformat_minor": 2
}
